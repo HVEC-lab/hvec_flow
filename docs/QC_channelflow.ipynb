{
 "cells": [
  {
   "cell_type": "markdown",
   "id": "407b62b6",
   "metadata": {},
   "source": [
    "## Package HVEC flow\n",
    "### Test cases subpackage culverts"
   ]
  },
  {
   "cell_type": "markdown",
   "id": "2e54e02e",
   "metadata": {},
   "source": [
    "Background calculations for automatic testing of the package are reported here."
   ]
  },
  {
   "cell_type": "markdown",
   "id": "fae9be5d",
   "metadata": {},
   "source": [
    "#### Setting the stage"
   ]
  },
  {
   "cell_type": "code",
   "execution_count": 3,
   "id": "75c3faf8",
   "metadata": {},
   "outputs": [],
   "source": [
    "import handcalcs.render\n",
    "import forallpeople as si\n",
    "from numpy import sqrt, sign, abs, sum, array"
   ]
  },
  {
   "cell_type": "code",
   "execution_count": 4,
   "id": "fda53dcf-e436-49c4-9ba3-b5d4d16634ea",
   "metadata": {},
   "outputs": [],
   "source": [
    "si.environment('default', top_level = True)"
   ]
  },
  {
   "cell_type": "markdown",
   "id": "bd6747f8",
   "metadata": {},
   "source": [
    "#### Function Q\n",
    "- Testing covered in test_culverts"
   ]
  },
  {
   "cell_type": "code",
   "execution_count": 5,
   "id": "90d6a35f",
   "metadata": {},
   "outputs": [
    {
     "data": {
      "text/latex": [
       "\\[\n",
       "\\begin{aligned}\n",
       "\\mathrm{muA} &= 13.000\\ \\text{m}^{2} \\; \n",
       " &H &= 1.000\\ \\text{m} \\; \n",
       " &g &= 9.810\\ \\text{m} \\cdot \\text{s}^{-2} \\; \n",
       "\\\\[10pt]\\end{aligned}\n",
       "\\]"
      ],
      "text/plain": [
       "<IPython.core.display.Latex object>"
      ]
     },
     "metadata": {},
     "output_type": "display_data"
    }
   ],
   "source": [
    "%%render\n",
    "# Parameters\n",
    "muA = 13 * m**2\n",
    "H = 1 * m\n",
    "g = 9.81 * m/s**2"
   ]
  },
  {
   "cell_type": "code",
   "execution_count": 6,
   "id": "9263451e-b3b6-43c7-988c-9b49bcc3d7d8",
   "metadata": {},
   "outputs": [
    {
     "data": {
      "text/latex": [
       "\\[\n",
       "\\begin{aligned}\n",
       "Q &= \\mathrm{muA} \\cdot \\sqrt { 2 \\cdot g \\cdot H } \\\\&= 13.000\\ \\text{m}^{2} \\cdot \\sqrt { 2 \\cdot 9.810\\ \\text{m} \\cdot \\text{s}^{-2} \\cdot 1.000\\ \\text{m} } \\\\&= 57.583\\ \\text{m}^{3.0} \\cdot \\text{s}^{-1.0}  \\\\\n",
       "\\end{aligned}\n",
       "\\]"
      ],
      "text/plain": [
       "<IPython.core.display.Latex object>"
      ]
     },
     "metadata": {},
     "output_type": "display_data"
    }
   ],
   "source": [
    "%%render\n",
    "Q =  muA * sqrt(2 * g * H)"
   ]
  },
  {
   "cell_type": "code",
   "execution_count": 7,
   "id": "231cce5e",
   "metadata": {},
   "outputs": [
    {
     "data": {
      "text/latex": [
       "\\[\n",
       "\\begin{aligned}\n",
       "H &= 0 \\cdot m  = 0 \\cdot m &= 0.000\\ \\text{m}  \n",
       "\\\\[10pt]\n",
       "Q &= \\mathrm{muA} \\cdot \\sqrt { 2 \\cdot g \\cdot H } \\\\&= 13.000\\ \\text{m}^{2} \\cdot \\sqrt { 2 \\cdot 9.810\\ \\text{m} \\cdot \\text{s}^{-2} \\cdot 0.000\\ \\text{m} } \\\\&= 0.000\\ \\text{m}^{3.0} \\cdot \\text{s}^{-1.0}  \\\\\n",
       "\\end{aligned}\n",
       "\\]"
      ],
      "text/plain": [
       "<IPython.core.display.Latex object>"
      ]
     },
     "metadata": {},
     "output_type": "display_data"
    }
   ],
   "source": [
    "%%render\n",
    "H = 0 * m\n",
    "Q = muA * sqrt(2 * g * H)"
   ]
  },
  {
   "cell_type": "code",
   "execution_count": 8,
   "id": "2c55ecc1",
   "metadata": {},
   "outputs": [
    {
     "data": {
      "text/latex": [
       "\\[\n",
       "\\begin{aligned}\n",
       "\\mathrm{muA} &= 0 \\cdot \\left( m \\right) ^{ 2 }  = 0 \\cdot \\left( m \\right) ^{ 2 } &= 0.000\\ \\text{m}^{2}  \n",
       "\\\\[10pt]\n",
       "H &= 0.75 \\cdot m  = 0.75 \\cdot m &= 750.000\\ \\text{mm}  \n",
       "\\\\[10pt]\n",
       "Q &= \\mathrm{muA} \\cdot \\sqrt { 2 \\cdot g \\cdot H } \\\\&= 0.000\\ \\text{m}^{2} \\cdot \\sqrt { 2 \\cdot 9.810\\ \\text{m} \\cdot \\text{s}^{-2} \\cdot 750.000\\ \\text{mm} } \\\\&= 0.000\\ \\text{m}^{3.0} \\cdot \\text{s}^{-1.0}  \\\\\n",
       "\\end{aligned}\n",
       "\\]"
      ],
      "text/plain": [
       "<IPython.core.display.Latex object>"
      ]
     },
     "metadata": {},
     "output_type": "display_data"
    }
   ],
   "source": [
    "%%render\n",
    "muA = 0 * m**2\n",
    "H = 0.75 * m\n",
    "Q = muA * sqrt(2 * g * H)"
   ]
  },
  {
   "cell_type": "code",
   "execution_count": 9,
   "id": "778abcbf",
   "metadata": {},
   "outputs": [
    {
     "data": {
      "text/latex": [
       "\\[\n",
       "\\begin{aligned}\n",
       "\\mathrm{muA} &= 25 \\cdot \\left( m \\right) ^{ 2 }  = 25 \\cdot \\left( m \\right) ^{ 2 } &= 25.000\\ \\text{m}^{2}  \n",
       "\\\\[10pt]\n",
       "H &= 0 \\cdot m  = 0 \\cdot m &= 0.000\\ \\text{m}  \n",
       "\\\\[10pt]\n",
       "Q &= \\mathrm{muA} \\cdot \\sqrt { 2 \\cdot g \\cdot H } \\\\&= 25.000\\ \\text{m}^{2} \\cdot \\sqrt { 2 \\cdot 9.810\\ \\text{m} \\cdot \\text{s}^{-2} \\cdot 0.000\\ \\text{m} } \\\\&= 0.000\\ \\text{m}^{3.0} \\cdot \\text{s}^{-1.0}  \\\\\n",
       "\\end{aligned}\n",
       "\\]"
      ],
      "text/plain": [
       "<IPython.core.display.Latex object>"
      ]
     },
     "metadata": {},
     "output_type": "display_data"
    }
   ],
   "source": [
    "%%render\n",
    "muA = 25 * m**2\n",
    "H = 0 * m\n",
    "Q = muA * sqrt(2 * g * H)"
   ]
  },
  {
   "cell_type": "code",
   "execution_count": 10,
   "id": "d755c0c9",
   "metadata": {},
   "outputs": [
    {
     "data": {
      "text/latex": [
       "\\[\n",
       "\\begin{aligned}\n",
       "g &= 4 \\cdot \\frac{ m }{ \\left( s \\right) ^{ 2 } }  = 4 \\cdot \\frac{ m }{ \\left( s \\right) ^{ 2 } } &= 4.000\\ \\text{m} \\cdot \\text{s}^{-2}  \n",
       "\\\\[10pt]\n",
       "H &= 0.1 \\cdot m  = 0.1 \\cdot m &= 100.000\\ \\text{mm}  \n",
       "\\\\[10pt]\n",
       "Q &= \\mathrm{muA} \\cdot \\sqrt { 2 \\cdot g \\cdot H } \\\\&= 25.000\\ \\text{m}^{2} \\cdot \\sqrt { 2 \\cdot 4.000\\ \\text{m} \\cdot \\text{s}^{-2} \\cdot 100.000\\ \\text{mm} } \\\\&= 22.361\\ \\text{m}^{3.0} \\cdot \\text{s}^{-1.0}  \\\\\n",
       "\\end{aligned}\n",
       "\\]"
      ],
      "text/plain": [
       "<IPython.core.display.Latex object>"
      ]
     },
     "metadata": {},
     "output_type": "display_data"
    }
   ],
   "source": [
    "%%render\n",
    "g = 4 * m/s**2\n",
    "H = 0.1 * m\n",
    "Q = muA * sqrt(2 * g * H)"
   ]
  },
  {
   "cell_type": "markdown",
   "id": "6525c32c",
   "metadata": {},
   "source": [
    "#### Function delta_H"
   ]
  },
  {
   "cell_type": "code",
   "execution_count": 11,
   "id": "ef45bd5c",
   "metadata": {},
   "outputs": [
    {
     "data": {
      "text/latex": [
       "\\[\n",
       "\\begin{aligned}\n",
       "\\mathrm{muA} &= 13 \\cdot \\left( m \\right) ^{ 2 }  = 13 \\cdot \\left( m \\right) ^{ 2 } &= 13.000\\ \\text{m}^{2}  \n",
       "\\\\[10pt]\n",
       "Q &= 50 \\cdot \\frac{ \\left( m \\right) ^{ 3 } }{ s }  = 50 \\cdot \\frac{ \\left( m \\right) ^{ 3 } }{ s } &= 50.000\\ \\text{m}^{3.0} \\cdot \\text{s}^{-1.0}  \n",
       "\\\\[10pt]\n",
       "g &= 9.81 \\cdot \\frac{ m }{ \\left( s \\right) ^{ 2 } }  = 9.81 \\cdot \\frac{ m }{ \\left( s \\right) ^{ 2 } } &= 9.810\\ \\text{m} \\cdot \\text{s}^{-2}  \n",
       "\\\\[10pt]\n",
       "U &= \\frac{ Q }{ \\mathrm{muA} }  = \\frac{ 50.000\\ \\text{m}^{3.0} \\cdot \\text{s}^{-1.0} }{ 13.000\\ \\text{m}^{2} } &= 3.846\\ \\text{m} \\cdot \\text{s}^{-1}  \n",
       "\\\\[10pt]\n",
       "\\mathrm{DeltaH} &= \\frac{ \\left( U \\right) ^{ 2 } }{ 2 \\cdot g }  = \\frac{ \\left( 3.846\\ \\text{m} \\cdot \\text{s}^{-1} \\right) ^{ 2 } }{ 2 \\cdot 9.810\\ \\text{m} \\cdot \\text{s}^{-2} } &= 753.970\\ \\text{mm}  \n",
       "\\end{aligned}\n",
       "\\]"
      ],
      "text/plain": [
       "<IPython.core.display.Latex object>"
      ]
     },
     "metadata": {},
     "output_type": "display_data"
    }
   ],
   "source": [
    "%%render\n",
    "muA = 13 * m**2\n",
    "Q = 50 * m**3/s\n",
    "g = 9.81 * m/s**2\n",
    "U = Q / muA\n",
    "DeltaH = (U ** 2) / (2 * g)"
   ]
  },
  {
   "cell_type": "code",
   "execution_count": 12,
   "id": "146f1bc8",
   "metadata": {},
   "outputs": [
    {
     "data": {
      "text/latex": [
       "\\[\n",
       "\\begin{aligned}\n",
       "\\mathrm{muA} &= 13 \\cdot \\left( m \\right) ^{ 2 }  = 13 \\cdot \\left( m \\right) ^{ 2 } &= 13.000\\ \\text{m}^{2}  \n",
       "\\\\[10pt]\n",
       "Q &= \\left( - 50 \\right) \\cdot \\frac{ \\left( m \\right) ^{ 3 } }{ s }  = \\left( - 50 \\right) \\cdot \\frac{ \\left( m \\right) ^{ 3 } }{ s } &= -50.000\\ \\text{m}^{3.0} \\cdot \\text{s}^{-1.0}  \n",
       "\\\\[10pt]\n",
       "g &= 9.81 \\cdot \\frac{ m }{ \\left( s \\right) ^{ 2 } }  = 9.81 \\cdot \\frac{ m }{ \\left( s \\right) ^{ 2 } } &= 9.810\\ \\text{m} \\cdot \\text{s}^{-2}  \n",
       "\\\\[10pt]\n",
       "U &= \\frac{ Q }{ \\mathrm{muA} }  = \\frac{ -50.000\\ \\text{m}^{3.0} \\cdot \\text{s}^{-1.0} }{ 13.000\\ \\text{m}^{2} } &= -3.846\\ \\text{m} \\cdot \\text{s}^{-1}  \n",
       "\\\\[10pt]\n",
       "\\mathrm{DeltaH} &= \\frac{ \\left( - \\left( U \\right) ^{ 2 } \\right) }{ 2 \\cdot g }  = \\frac{ \\left( - \\left( -3.846\\ \\text{m} \\cdot \\text{s}^{-1} \\right) ^{ 2 } \\right) }{ 2 \\cdot 9.810\\ \\text{m} \\cdot \\text{s}^{-2} } &= -753.970\\ \\text{mm}  \n",
       "\\end{aligned}\n",
       "\\]"
      ],
      "text/plain": [
       "<IPython.core.display.Latex object>"
      ]
     },
     "metadata": {},
     "output_type": "display_data"
    }
   ],
   "source": [
    "%%render\n",
    "muA = 13 * m**2\n",
    "Q = -50 * m**3/s\n",
    "g = 9.81 * m/s**2\n",
    "U = Q / muA\n",
    "DeltaH = -(U ** 2) / (2 * g)"
   ]
  },
  {
   "cell_type": "code",
   "execution_count": 13,
   "id": "8419da22",
   "metadata": {},
   "outputs": [
    {
     "data": {
      "text/latex": [
       "\\[\n",
       "\\begin{aligned}\n",
       "\\mathrm{muA} &= 25 \\cdot \\left( m \\right) ^{ 2 }  = 25 \\cdot \\left( m \\right) ^{ 2 } &= 25.000\\ \\text{m}^{2}  \n",
       "\\\\[10pt]\n",
       "Q &= 0 \\cdot \\frac{ \\left( m \\right) ^{ 3 } }{ s }  = 0 \\cdot \\frac{ \\left( m \\right) ^{ 3 } }{ s } &= 0.000\\ \\text{m}^{3.0} \\cdot \\text{s}^{-1.0}  \n",
       "\\\\[10pt]\n",
       "g &= 9.81 \\cdot \\frac{ m }{ \\left( s \\right) ^{ 2 } }  = 9.81 \\cdot \\frac{ m }{ \\left( s \\right) ^{ 2 } } &= 9.810\\ \\text{m} \\cdot \\text{s}^{-2}  \n",
       "\\\\[10pt]\n",
       "U &= \\frac{ Q }{ \\mathrm{muA} }  = \\frac{ 0.000\\ \\text{m}^{3.0} \\cdot \\text{s}^{-1.0} }{ 25.000\\ \\text{m}^{2} } &= 0.000\\ \\text{m} \\cdot \\text{s}^{-1}  \n",
       "\\\\[10pt]\n",
       "\\mathrm{DeltaH} &= \\frac{ \\left( U \\right) ^{ 2 } }{ 2 \\cdot g }  = \\frac{ \\left( 0.000\\ \\text{m} \\cdot \\text{s}^{-1} \\right) ^{ 2 } }{ 2 \\cdot 9.810\\ \\text{m} \\cdot \\text{s}^{-2} } &= 0.000\\ \\text{m}  \n",
       "\\end{aligned}\n",
       "\\]"
      ],
      "text/plain": [
       "<IPython.core.display.Latex object>"
      ]
     },
     "metadata": {},
     "output_type": "display_data"
    }
   ],
   "source": [
    "%%render\n",
    "muA = 25 * m**2\n",
    "Q = 0 * m**3/s\n",
    "g = 9.81 * m/s**2\n",
    "U = Q / muA\n",
    "DeltaH = (U ** 2) / (2 * g)"
   ]
  },
  {
   "cell_type": "code",
   "execution_count": 14,
   "id": "e970c92e-80bc-4dd3-9af2-e9e39b29c47b",
   "metadata": {},
   "outputs": [
    {
     "data": {
      "text/latex": [
       "\\[\n",
       "\\begin{aligned}\n",
       "\\mathrm{muA} &= 25 \\cdot \\left( m \\right) ^{ 2 }  = 25 \\cdot \\left( m \\right) ^{ 2 } &= 25.000\\ \\text{m}^{2}  \n",
       "\\\\[10pt]\n",
       "Q &= 30 \\cdot \\frac{ \\left( m \\right) ^{ 3 } }{ s }  = 30 \\cdot \\frac{ \\left( m \\right) ^{ 3 } }{ s } &= 30.000\\ \\text{m}^{3.0} \\cdot \\text{s}^{-1.0}  \n",
       "\\\\[10pt]\n",
       "g &= 4 \\cdot \\frac{ m }{ \\left( s \\right) ^{ 2 } }  = 4 \\cdot \\frac{ m }{ \\left( s \\right) ^{ 2 } } &= 4.000\\ \\text{m} \\cdot \\text{s}^{-2}  \n",
       "\\\\[10pt]\n",
       "U &= \\frac{ Q }{ \\mathrm{muA} }  = \\frac{ 30.000\\ \\text{m}^{3.0} \\cdot \\text{s}^{-1.0} }{ 25.000\\ \\text{m}^{2} } &= 1.200\\ \\text{m} \\cdot \\text{s}^{-1}  \n",
       "\\\\[10pt]\n",
       "\\mathrm{DeltaH} &= \\frac{ \\left( U \\right) ^{ 2 } }{ 2 \\cdot g }  = \\frac{ \\left( 1.200\\ \\text{m} \\cdot \\text{s}^{-1} \\right) ^{ 2 } }{ 2 \\cdot 4.000\\ \\text{m} \\cdot \\text{s}^{-2} } &= 180.000\\ \\text{mm}  \n",
       "\\end{aligned}\n",
       "\\]"
      ],
      "text/plain": [
       "<IPython.core.display.Latex object>"
      ]
     },
     "metadata": {},
     "output_type": "display_data"
    }
   ],
   "source": [
    "%%render\n",
    "muA = 25 * m**2\n",
    "Q = 30 * m**3/s\n",
    "g = 4 * m/s**2\n",
    "U = Q / muA\n",
    "DeltaH = (U ** 2) / (2 * g)"
   ]
  },
  {
   "cell_type": "markdown",
   "id": "97c91512-0be8-464f-996f-79294af920d0",
   "metadata": {},
   "source": [
    "#### Function muA_from_Q"
   ]
  },
  {
   "cell_type": "code",
   "execution_count": 15,
   "id": "57fe736d-b554-4087-a6d4-e3b14550d2c9",
   "metadata": {},
   "outputs": [
    {
     "data": {
      "text/latex": [
       "\\[\n",
       "\\begin{aligned}\n",
       "Q &= 40 \\cdot \\frac{ \\left( m \\right) ^{ 3 } }{ s }  = 40 \\cdot \\frac{ \\left( m \\right) ^{ 3 } }{ s } &= 40.000\\ \\text{m}^{3.0} \\cdot \\text{s}^{-1.0}  \n",
       "\\\\[10pt]\n",
       "H &= 0.35 \\cdot m  = 0.35 \\cdot m &= 350.000\\ \\text{mm}  \n",
       "\\\\[10pt]\n",
       "g &= 9.81 \\cdot \\frac{ m }{ \\left( s \\right) ^{ 2 } }  = 9.81 \\cdot \\frac{ m }{ \\left( s \\right) ^{ 2 } } &= 9.810\\ \\text{m} \\cdot \\text{s}^{-2}  \n",
       "\\\\[10pt]\n",
       "U &= \\sqrt { 2 \\cdot g \\cdot H }  = \\sqrt { 2 \\cdot 9.810\\ \\text{m} \\cdot \\text{s}^{-2} \\cdot 350.000\\ \\text{mm} } &= 2.620\\ \\text{m} \\cdot \\text{s}^{-1}  \n",
       "\\\\[10pt]\n",
       "\\mathrm{muA} &= \\frac{ Q }{ U }  = \\frac{ 40.000\\ \\text{m}^{3.0} \\cdot \\text{s}^{-1.0} }{ 2.620\\ \\text{m} \\cdot \\text{s}^{-1} } &= 15.264\\ \\text{m}^{2}  \n",
       "\\end{aligned}\n",
       "\\]"
      ],
      "text/plain": [
       "<IPython.core.display.Latex object>"
      ]
     },
     "metadata": {},
     "output_type": "display_data"
    }
   ],
   "source": [
    "%%render\n",
    "Q = 40 * m**3/s\n",
    "H = 0.35 * m\n",
    "g = 9.81 * m/s**2\n",
    "U = sqrt(2 * g * H)\n",
    "muA = Q / U"
   ]
  },
  {
   "cell_type": "code",
   "execution_count": 16,
   "id": "b23cb33d-cafa-4b0b-b563-270b830ac55f",
   "metadata": {},
   "outputs": [
    {
     "data": {
      "text/latex": [
       "\\[\n",
       "\\begin{aligned}\n",
       "Q &= \\left( - 40 \\right) \\cdot \\frac{ \\left( m \\right) ^{ 3 } }{ s }  = \\left( - 40 \\right) \\cdot \\frac{ \\left( m \\right) ^{ 3 } }{ s } &= -40.000\\ \\text{m}^{3.0} \\cdot \\text{s}^{-1.0}  \n",
       "\\\\[10pt]\n",
       "H &= \\left( - 0.35 \\right) \\cdot m  = \\left( - 0.35 \\right) \\cdot m &= -350.000\\ \\text{mm}  \n",
       "\\\\[10pt]\n",
       "g &= 9.81 \\cdot \\frac{ m }{ \\left( s \\right) ^{ 2 } }  = 9.81 \\cdot \\frac{ m }{ \\left( s \\right) ^{ 2 } } &= 9.810\\ \\text{m} \\cdot \\text{s}^{-2}  \n",
       "\\\\[10pt]\n",
       "U &= \\operatorname{sign} { \\left( H \\right) } \\cdot \\sqrt { 2 \\cdot g \\cdot \\operatorname{abs} { \\left( H \\right) } } \\\\&= \\operatorname{sign} { \\left( -350.000\\ \\text{mm} \\right) } \\cdot \\sqrt { 2 \\cdot 9.810\\ \\text{m} \\cdot \\text{s}^{-2} \\cdot \\operatorname{abs} { \\left( -350.000\\ \\text{mm} \\right) } } \\\\&= -2.620\\ \\text{m} \\cdot \\text{s}^{-1}  \\\\\n",
       "\\\\[10pt]\n",
       "\\mathrm{muA} &= \\frac{ Q }{ U }  = \\frac{ -40.000\\ \\text{m}^{3.0} \\cdot \\text{s}^{-1.0} }{ -2.620\\ \\text{m} \\cdot \\text{s}^{-1} } &= 15.264\\ \\text{m}^{2}  \n",
       "\\end{aligned}\n",
       "\\]"
      ],
      "text/plain": [
       "<IPython.core.display.Latex object>"
      ]
     },
     "metadata": {},
     "output_type": "display_data"
    }
   ],
   "source": [
    "%%render\n",
    "Q = -40 * m**3/s\n",
    "H = -0.35 * m\n",
    "g = 9.81 * m/s**2\n",
    "U = sign(H) * sqrt(2 * g * abs(H))\n",
    "muA = Q / U"
   ]
  },
  {
   "cell_type": "code",
   "execution_count": 17,
   "id": "9a97a579-c325-4182-bf14-40f11039a2e0",
   "metadata": {},
   "outputs": [
    {
     "data": {
      "text/latex": [
       "\\[\n",
       "\\begin{aligned}\n",
       "Q &= 0 \\cdot \\frac{ \\left( m \\right) ^{ 3 } }{ s }  = 0 \\cdot \\frac{ \\left( m \\right) ^{ 3 } }{ s } &= 0.000\\ \\text{m}^{3.0} \\cdot \\text{s}^{-1.0}  \n",
       "\\\\[10pt]\n",
       "H &= 0.35 \\cdot m  = 0.35 \\cdot m &= 350.000\\ \\text{mm}  \n",
       "\\\\[10pt]\n",
       "g &= 9.81 \\cdot \\frac{ m }{ \\left( s \\right) ^{ 2 } }  = 9.81 \\cdot \\frac{ m }{ \\left( s \\right) ^{ 2 } } &= 9.810\\ \\text{m} \\cdot \\text{s}^{-2}  \n",
       "\\\\[10pt]\n",
       "U &= \\operatorname{sign} { \\left( H \\right) } \\cdot \\sqrt { 2 \\cdot g \\cdot \\operatorname{abs} { \\left( H \\right) } } \\\\&= \\operatorname{sign} { \\left( 350.000\\ \\text{mm} \\right) } \\cdot \\sqrt { 2 \\cdot 9.810\\ \\text{m} \\cdot \\text{s}^{-2} \\cdot \\operatorname{abs} { \\left( 350.000\\ \\text{mm} \\right) } } \\\\&= 2.620\\ \\text{m} \\cdot \\text{s}^{-1}  \\\\\n",
       "\\\\[10pt]\n",
       "\\mathrm{muA} &= \\frac{ Q }{ U }  = \\frac{ 0.000\\ \\text{m}^{3.0} \\cdot \\text{s}^{-1.0} }{ 2.620\\ \\text{m} \\cdot \\text{s}^{-1} } &= 0.000\\ \\text{m}^{2}  \n",
       "\\end{aligned}\n",
       "\\]"
      ],
      "text/plain": [
       "<IPython.core.display.Latex object>"
      ]
     },
     "metadata": {},
     "output_type": "display_data"
    }
   ],
   "source": [
    "%%render\n",
    "Q = 0 * m**3/s\n",
    "H = 0.35 * m\n",
    "g = 9.81 * m/s**2\n",
    "U = sign(H) * sqrt(2 * g * abs(H))\n",
    "muA = Q / U"
   ]
  },
  {
   "cell_type": "code",
   "execution_count": 18,
   "id": "14c11985-7912-4280-9eaf-d76ad9e10fbc",
   "metadata": {},
   "outputs": [
    {
     "data": {
      "text/latex": [
       "\\[\n",
       "\\begin{aligned}\n",
       "Q &= 40 \\cdot \\frac{ \\left( m \\right) ^{ 3 } }{ s }  = 40 \\cdot \\frac{ \\left( m \\right) ^{ 3 } }{ s } &= 40.000\\ \\text{m}^{3.0} \\cdot \\text{s}^{-1.0}  \n",
       "\\\\[10pt]\n",
       "H &= 0.35 \\cdot m  = 0.35 \\cdot m &= 350.000\\ \\text{mm}  \n",
       "\\\\[10pt]\n",
       "g &= 3 \\cdot \\frac{ m }{ \\left( s \\right) ^{ 2 } }  = 3 \\cdot \\frac{ m }{ \\left( s \\right) ^{ 2 } } &= 3.000\\ \\text{m} \\cdot \\text{s}^{-2}  \n",
       "\\\\[10pt]\n",
       "U &= \\operatorname{sign} { \\left( H \\right) } \\cdot \\sqrt { 2 \\cdot g \\cdot \\operatorname{abs} { \\left( H \\right) } } \\\\&= \\operatorname{sign} { \\left( 350.000\\ \\text{mm} \\right) } \\cdot \\sqrt { 2 \\cdot 3.000\\ \\text{m} \\cdot \\text{s}^{-2} \\cdot \\operatorname{abs} { \\left( 350.000\\ \\text{mm} \\right) } } \\\\&= 1.449\\ \\text{m} \\cdot \\text{s}^{-1}  \\\\\n",
       "\\\\[10pt]\n",
       "\\mathrm{muA} &= \\frac{ Q }{ U }  = \\frac{ 40.000\\ \\text{m}^{3.0} \\cdot \\text{s}^{-1.0} }{ 1.449\\ \\text{m} \\cdot \\text{s}^{-1} } &= 27.603\\ \\text{m}^{2}  \n",
       "\\end{aligned}\n",
       "\\]"
      ],
      "text/plain": [
       "<IPython.core.display.Latex object>"
      ]
     },
     "metadata": {},
     "output_type": "display_data"
    }
   ],
   "source": [
    "%%render\n",
    "Q = 40 * m**3/s\n",
    "H = 0.35 * m\n",
    "g = 3 * m/s**2\n",
    "U = sign(H) * sqrt(2 * g * abs(H))\n",
    "muA = Q / U"
   ]
  },
  {
   "cell_type": "markdown",
   "id": "fab3c157-a0b5-4c2e-b474-7ae3af8ca6a2",
   "metadata": {},
   "source": [
    "#### Function muA_series\n",
    "Tested by verifying that the calculated head difference from the system and from the equivalent area are the same for given discharge. No hand calculation required."
   ]
  },
  {
   "cell_type": "markdown",
   "id": "cb37d8e2-edf5-47c3-821a-b9ec1a742542",
   "metadata": {},
   "source": [
    "#### Function muA_parallel\n",
    "The system effective area is the addition of the individual areas. Testing is straightforward and not provided here."
   ]
  },
  {
   "cell_type": "markdown",
   "id": "569ca139-695f-47b9-9dfc-d00c1cd6c194",
   "metadata": {},
   "source": [
    "#### Function muA_system\n",
    "Testing with units not possible"
   ]
  },
  {
   "cell_type": "code",
   "execution_count": 19,
   "id": "0eec4f62-6f7f-4285-89a5-a914c3d6e5ce",
   "metadata": {},
   "outputs": [
    {
     "name": "stderr",
     "output_type": "stream",
     "text": [
      "c:\\Users\\Hessel Voortman\\AppData\\Local\\Programs\\Python\\Python310\\lib\\site-packages\\handcalcs\\handcalcs.py:2884: FutureWarning: elementwise comparison failed; returning scalar instead, but in the future will perform elementwise comparison\n",
      "  if item == \"/\":\n",
      "c:\\Users\\Hessel Voortman\\AppData\\Local\\Programs\\Python\\Python310\\lib\\site-packages\\handcalcs\\handcalcs.py:2161: FutureWarning: elementwise comparison failed; returning scalar instead, but in the future will perform elementwise comparison\n",
      "  elif item == \"/\" and not past_first_frac:\n",
      "c:\\Users\\Hessel Voortman\\AppData\\Local\\Programs\\Python\\Python310\\lib\\site-packages\\handcalcs\\handcalcs.py:2166: FutureWarning: elementwise comparison failed; returning scalar instead, but in the future will perform elementwise comparison\n",
      "  elif item == \"/\" and past_first_frac:\n",
      "c:\\Users\\Hessel Voortman\\AppData\\Local\\Programs\\Python\\Python310\\lib\\site-packages\\handcalcs\\handcalcs.py:2229: FutureWarning: elementwise comparison failed; returning scalar instead, but in the future will perform elementwise comparison\n",
      "  if code[next_idx] == \"/\" and isinstance(item, deque):\n",
      "c:\\Users\\Hessel Voortman\\AppData\\Local\\Programs\\Python\\Python310\\lib\\site-packages\\handcalcs\\handcalcs.py:2233: FutureWarning: elementwise comparison failed; returning scalar instead, but in the future will perform elementwise comparison\n",
      "  elif code[next_idx] == \"/\" and not isinstance(item, deque):\n",
      "c:\\Users\\Hessel Voortman\\AppData\\Local\\Programs\\Python\\Python310\\lib\\site-packages\\handcalcs\\handcalcs.py:2237: FutureWarning: elementwise comparison failed; returning scalar instead, but in the future will perform elementwise comparison\n",
      "  elif item == \"/\":\n",
      "c:\\Users\\Hessel Voortman\\AppData\\Local\\Programs\\Python\\Python310\\lib\\site-packages\\handcalcs\\handcalcs.py:2390: FutureWarning: elementwise comparison failed; returning scalar instead, but in the future will perform elementwise comparison\n",
      "  if item == \"*\":\n",
      "c:\\Users\\Hessel Voortman\\AppData\\Local\\Programs\\Python\\Python310\\lib\\site-packages\\handcalcs\\handcalcs.py:2392: FutureWarning: elementwise comparison failed; returning scalar instead, but in the future will perform elementwise comparison\n",
      "  elif item == \"%\":\n",
      "c:\\Users\\Hessel Voortman\\AppData\\Local\\Programs\\Python\\Python310\\lib\\site-packages\\handcalcs\\handcalcs.py:2394: FutureWarning: elementwise comparison failed; returning scalar instead, but in the future will perform elementwise comparison\n",
      "  elif item == \",\":\n"
     ]
    },
    {
     "data": {
      "text/latex": [
       "\\[\n",
       "\\begin{aligned}\n",
       "\\mathrm{muA} &= [25,\\ 30,\\ 10] \\; \n",
       "\\\\[10pt]\n",
       "\\mathrm{muA}_{series} &= \\frac{ 1 }{ \\sqrt { \\Sigma \\left( \\frac{ 1 }{ \\left( \\mathrm{muA} \\right) ^{ 2 } } \\right) } }  = \\frac{ 1 }{ \\sqrt { \\Sigma \\left( \\frac{ 1 }{ \\left( [25,\\ 30,\\ 10] \\right) ^{ 2 } } \\right) } } &= 8.87  \n",
       "\\\\[10pt]\n",
       "\\mathrm{muA}_{series} &= 8.87 \\; \n",
       "\\end{aligned}\n",
       "\\]"
      ],
      "text/plain": [
       "<IPython.core.display.Latex object>"
      ]
     },
     "metadata": {},
     "output_type": "display_data"
    }
   ],
   "source": [
    "%%render\n",
    "muA = array([25, 30, 10])\n",
    "muA_series = 1/sqrt(sum((1/muA**2)))\n",
    "muA_series"
   ]
  },
  {
   "cell_type": "code",
   "execution_count": 20,
   "id": "6a359da9-f3e1-483c-a8a9-45b848f136e3",
   "metadata": {},
   "outputs": [
    {
     "data": {
      "text/latex": [
       "\\[\n",
       "\\begin{aligned}\n",
       "\\mathrm{muA} &= [[10, 20],\\ [50, 75, 60],\\ 100] \\; \n",
       "\\end{aligned}\n",
       "\\]"
      ],
      "text/plain": [
       "<IPython.core.display.Latex object>"
      ]
     },
     "metadata": {},
     "output_type": "display_data"
    }
   ],
   "source": [
    "%%render\n",
    "muA = [[10, 20], [50, 75, 60], 100]"
   ]
  },
  {
   "cell_type": "markdown",
   "id": "b54983bd-60e3-484d-b9c8-088c9c6ac49b",
   "metadata": {},
   "source": [
    "First transform the parallel systems to single units"
   ]
  },
  {
   "cell_type": "code",
   "execution_count": 21,
   "id": "aec4282c-f0bb-4643-a97c-fe1d6913e484",
   "metadata": {},
   "outputs": [
    {
     "data": {
      "text/plain": [
       "array([ 30, 185, 100])"
      ]
     },
     "execution_count": 21,
     "metadata": {},
     "output_type": "execute_result"
    }
   ],
   "source": [
    "muA_eq = []\n",
    "for row in muA:\n",
    "    row = array(row)\n",
    "    muA_eq.append(row.sum())\n",
    "muA_eq = array(muA_eq)\n",
    "muA_eq"
   ]
  },
  {
   "cell_type": "code",
   "execution_count": 22,
   "id": "ecc1ba5e-896c-46f1-aca4-84c709c8826f",
   "metadata": {},
   "outputs": [
    {
     "data": {
      "text/plain": [
       "28.394319197088098"
      ]
     },
     "execution_count": 22,
     "metadata": {},
     "output_type": "execute_result"
    }
   ],
   "source": [
    "muA_system = 1/sqrt(sum((1/muA_eq**2)))\n",
    "muA_system"
   ]
  },
  {
   "cell_type": "code",
   "execution_count": null,
   "id": "a85620be-f1ed-4698-a8aa-2d8a535bd541",
   "metadata": {},
   "outputs": [],
   "source": []
  }
 ],
 "metadata": {
  "kernelspec": {
   "display_name": "Python 3.10.4 64-bit",
   "language": "python",
   "name": "python3"
  },
  "language_info": {
   "codemirror_mode": {
    "name": "ipython",
    "version": 3
   },
   "file_extension": ".py",
   "mimetype": "text/x-python",
   "name": "python",
   "nbconvert_exporter": "python",
   "pygments_lexer": "ipython3",
   "version": "3.10.4"
  },
  "vscode": {
   "interpreter": {
    "hash": "8f524c5d4fd00a57cf286a859919f18af5e86658323418c29131ee166da378b4"
   }
  }
 },
 "nbformat": 4,
 "nbformat_minor": 5
}
