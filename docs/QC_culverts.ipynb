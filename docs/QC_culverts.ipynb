{
 "cells": [
  {
   "cell_type": "markdown",
   "id": "407b62b6",
   "metadata": {},
   "source": [
    "## Package HVEC flow\n",
    "### Test cases subpackage channelflow"
   ]
  },
  {
   "cell_type": "markdown",
   "id": "2e54e02e",
   "metadata": {},
   "source": [
    "Background calculations for automatic testing of the package are reported here."
   ]
  },
  {
   "cell_type": "markdown",
   "id": "fae9be5d",
   "metadata": {},
   "source": [
    "#### Setting the stage"
   ]
  },
  {
   "cell_type": "code",
   "execution_count": 1,
   "id": "75c3faf8",
   "metadata": {},
   "outputs": [],
   "source": [
    "import handcalcs.render\n",
    "import forallpeople as si\n",
    "from numpy import sqrt, sign, abs, sum, array, cbrt"
   ]
  },
  {
   "cell_type": "code",
   "execution_count": 2,
   "id": "fda53dcf-e436-49c4-9ba3-b5d4d16634ea",
   "metadata": {},
   "outputs": [],
   "source": [
    "si.environment('default', top_level = True)"
   ]
  },
  {
   "cell_type": "markdown",
   "id": "bd6747f8",
   "metadata": {},
   "source": [
    "#### Function deq"
   ]
  },
  {
   "cell_type": "code",
   "execution_count": 3,
   "id": "90d6a35f",
   "metadata": {},
   "outputs": [
    {
     "data": {
      "text/latex": [
       "\\[\n",
       "\\begin{aligned}\n",
       "q &= 4 \\cdot \\frac{ \\left( m \\right) ^{ 2 } }{ s }  = 4 \\cdot \\frac{ \\left( m \\right) ^{ 2 } }{ s } &= 4.000\\ \\text{m}^{2} \\cdot \\text{s}^{-1}  \n",
       "\\\\[10pt]\n",
       "c_{f} &= 0.001 \\; \n",
       "\\\\[10pt]\n",
       "i_{b} &= 1.000 \\times 10 ^ {-4 } \\; \n",
       "\\\\[10pt]\n",
       "g &= 9.81 \\cdot \\frac{ m }{ \\left( s \\right) ^{ 2 } }  = 9.81 \\cdot \\frac{ m }{ \\left( s \\right) ^{ 2 } } &= 9.810\\ \\text{m} \\cdot \\text{s}^{-2}  \n",
       "\\\\[10pt]\n",
       "d_{eq} &= \\frac{ c_{f} \\cdot q \\cdot \\operatorname{abs} { \\left( q \\right) } }{ \\left( - i_{b} \\right) \\cdot g } \\\\&= \\frac{ 0.001 \\cdot 4.000\\ \\text{m}^{2} \\cdot \\text{s}^{-1} \\cdot \\operatorname{abs} { \\left( 4.000\\ \\text{m}^{2} \\cdot \\text{s}^{-1} \\right) } }{ \\left( - 1.000 \\times 10 ^ {-4 } \\right) \\cdot 9.810\\ \\text{m} \\cdot \\text{s}^{-2} } \\\\&= -16.310\\ \\text{m}^{3}  \\\\\n",
       "\\\\[10pt]\n",
       "d_{eq} &= -16.310\\ \\text{m}^{3} \\; \n",
       "\\end{aligned}\n",
       "\\]"
      ],
      "text/plain": [
       "<IPython.core.display.Latex object>"
      ]
     },
     "metadata": {},
     "output_type": "display_data"
    }
   ],
   "source": [
    "%%render\n",
    "q = 4 * m**2/s\n",
    "c_f = 1e-3\n",
    "i_b = 1e-4\n",
    "g = 9.81 * m/s**2\n",
    "d_eq = (c_f * q * abs(q))/(-i_b * g)\n",
    "d_eq"
   ]
  },
  {
   "cell_type": "code",
   "execution_count": null,
   "id": "fe22ac09-3b4c-4b2f-a50e-45410577616e",
   "metadata": {},
   "outputs": [],
   "source": []
  },
  {
   "cell_type": "code",
   "execution_count": null,
   "id": "7d49a84a-62e8-4da1-b367-cae437f5bd6a",
   "metadata": {},
   "outputs": [],
   "source": []
  }
 ],
 "metadata": {
  "kernelspec": {
   "display_name": "Python 3.10.4 64-bit",
   "language": "python",
   "name": "python3"
  },
  "language_info": {
   "codemirror_mode": {
    "name": "ipython",
    "version": 3
   },
   "file_extension": ".py",
   "mimetype": "text/x-python",
   "name": "python",
   "nbconvert_exporter": "python",
   "pygments_lexer": "ipython3",
   "version": "3.10.4"
  },
  "vscode": {
   "interpreter": {
    "hash": "8f524c5d4fd00a57cf286a859919f18af5e86658323418c29131ee166da378b4"
   }
  }
 },
 "nbformat": 4,
 "nbformat_minor": 5
}
