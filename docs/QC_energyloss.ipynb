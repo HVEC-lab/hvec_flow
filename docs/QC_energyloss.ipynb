{
 "cells": [
  {
   "attachments": {},
   "cell_type": "markdown",
   "id": "407b62b6",
   "metadata": {},
   "source": [
    "## Package HVEC flow\n",
    "### Test cases subpackage energyloss"
   ]
  },
  {
   "cell_type": "markdown",
   "id": "2e54e02e",
   "metadata": {},
   "source": [
    "Background calculations for automatic testing of the package are reported here."
   ]
  },
  {
   "cell_type": "markdown",
   "id": "fae9be5d",
   "metadata": {},
   "source": [
    "#### Setting the stage"
   ]
  },
  {
   "cell_type": "code",
   "execution_count": 9,
   "id": "75c3faf8",
   "metadata": {},
   "outputs": [],
   "source": [
    "import handcalcs.render\n",
    "import forallpeople as si\n",
    "from numpy import sqrt, sign, abs, sum, array, cbrt, log10"
   ]
  },
  {
   "cell_type": "code",
   "execution_count": 10,
   "id": "fda53dcf-e436-49c4-9ba3-b5d4d16634ea",
   "metadata": {},
   "outputs": [],
   "source": [
    "si.environment('default', top_level = True)"
   ]
  },
  {
   "attachments": {},
   "cell_type": "markdown",
   "metadata": {},
   "source": [
    "#### Function cf"
   ]
  },
  {
   "cell_type": "code",
   "execution_count": 23,
   "metadata": {},
   "outputs": [
    {
     "data": {
      "text/latex": [
       "\\[\n",
       "\\begin{aligned}\n",
       "R &= 10 \\cdot m  = 10 \\cdot m &= 10.000\\ \\mathrm{m}  \n",
       "\\\\[10pt]\n",
       "k &= 0.3 \\cdot m  = 0.3 \\cdot m &= 300.000\\ \\mathrm{mm}  \n",
       "\\\\[10pt]\n",
       "c_{f} &= 1000 \\cdot \\left( 5.75 \\cdot \\log_{10} \\left( \\frac{ 12 \\cdot R }{ k } \\right) \\right) ^{ \\left( - 2 \\right) }  = 1000 \\cdot \\left( 5.75 \\cdot \\log_{10} \\left( \\frac{ 12 \\cdot 10.000\\ \\mathrm{m} }{ 300.000\\ \\mathrm{mm} } \\right) \\right) ^{ \\left( - 2 \\right) } &= 4.467  \n",
       "\\end{aligned}\n",
       "\\]"
      ],
      "text/plain": [
       "<IPython.core.display.Latex object>"
      ]
     },
     "metadata": {},
     "output_type": "display_data"
    }
   ],
   "source": [
    "%%render\n",
    "R = 10 * m\n",
    "k = 0.3 * m\n",
    "c_f = (5.75*log10((12*R)/k)) ** (-2)\n"
   ]
  },
  {
   "attachments": {},
   "cell_type": "markdown",
   "metadata": {},
   "source": [
    "#### Function Chezy"
   ]
  },
  {
   "cell_type": "code",
   "execution_count": 22,
   "metadata": {},
   "outputs": [
    {
     "data": {
      "text/latex": [
       "\\[\n",
       "\\begin{aligned}\n",
       "g &= 9.81 \\cdot \\left( \\frac{ m }{ \\left( s \\right) ^{ 2 } } \\right)  = 9.81 \\cdot \\left( \\frac{ m }{ \\left( s \\right) ^{ 2 } } \\right) &= 9.810\\ \\mathrm{m} \\cdot \\mathrm{s}^{-2}  \n",
       "\\\\[10pt]\n",
       "\\mathrm{Chezy} &= \\sqrt { \\frac{ g }{ c_{f} } }  = \\sqrt { \\frac{ 9.810\\ \\mathrm{m} \\cdot \\mathrm{s}^{-2} }{ 0.004 } } &= 46.862\\ \\mathrm{m}^{0.5} \\cdot \\mathrm{s}^{-1.0}  \n",
       "\\end{aligned}\n",
       "\\]"
      ],
      "text/plain": [
       "<IPython.core.display.Latex object>"
      ]
     },
     "metadata": {},
     "output_type": "display_data"
    }
   ],
   "source": [
    "%%render\n",
    "g = 9.81 * (m/s**2)\n",
    "Chezy = sqrt(g / c_f)"
   ]
  },
  {
   "cell_type": "code",
   "execution_count": null,
   "metadata": {},
   "outputs": [],
   "source": []
  }
 ],
 "metadata": {
  "kernelspec": {
   "display_name": "Python 3",
   "language": "python",
   "name": "python3"
  },
  "language_info": {
   "codemirror_mode": {
    "name": "ipython",
    "version": 3
   },
   "file_extension": ".py",
   "mimetype": "text/x-python",
   "name": "python",
   "nbconvert_exporter": "python",
   "pygments_lexer": "ipython3",
   "version": "3.10.8"
  },
  "orig_nbformat": 4,
  "vscode": {
   "interpreter": {
    "hash": "26de051ba29f2982a8de78e945f0abaf191376122a1563185a90213a26c5da77"
   }
  }
 },
 "nbformat": 4,
 "nbformat_minor": 2
}
