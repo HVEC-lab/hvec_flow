{
 "cells": [
  {
   "cell_type": "markdown",
   "id": "407b62b6",
   "metadata": {},
   "source": [
    "## Package HVEC flow\n",
    "### Test cases subpackage culverts"
   ]
  },
  {
   "cell_type": "markdown",
   "id": "2e54e02e",
   "metadata": {},
   "source": [
    "Background calculations for automatic testing of the package are reported here."
   ]
  },
  {
   "cell_type": "markdown",
   "id": "fae9be5d",
   "metadata": {},
   "source": [
    "#### Setting the stage"
   ]
  },
  {
   "cell_type": "code",
   "execution_count": 1,
   "id": "75c3faf8",
   "metadata": {},
   "outputs": [],
   "source": [
    "import handcalcs.render\n",
    "import forallpeople as si\n",
    "from numpy import sqrt"
   ]
  },
  {
   "cell_type": "code",
   "execution_count": 2,
   "id": "fda53dcf-e436-49c4-9ba3-b5d4d16634ea",
   "metadata": {},
   "outputs": [],
   "source": [
    "si.environment('default', top_level = True)"
   ]
  },
  {
   "cell_type": "markdown",
   "id": "bd6747f8",
   "metadata": {},
   "source": [
    "#### Function Q\n",
    "- Testing covered in test_culverts"
   ]
  },
  {
   "cell_type": "code",
   "execution_count": 19,
   "id": "90d6a35f",
   "metadata": {},
   "outputs": [
    {
     "data": {
      "text/latex": [
       "\\[\n",
       "\\begin{aligned}\n",
       "\\mathrm{muA} &= 13.000\\ \\text{m}^{2} \\; \n",
       " &H &= 1.000\\ \\text{m} \\; \n",
       " &g &= 9.810\\ \\text{m} \\cdot \\text{s}^{-2} \\; \n",
       "\\\\[10pt]\\end{aligned}\n",
       "\\]"
      ],
      "text/plain": [
       "<IPython.core.display.Latex object>"
      ]
     },
     "metadata": {},
     "output_type": "display_data"
    }
   ],
   "source": [
    "%%render\n",
    "# Parameters\n",
    "muA = 13 * m**2\n",
    "H = 1 * m\n",
    "g = 9.81 * m/s**2"
   ]
  },
  {
   "cell_type": "code",
   "execution_count": 20,
   "id": "9263451e-b3b6-43c7-988c-9b49bcc3d7d8",
   "metadata": {},
   "outputs": [
    {
     "data": {
      "text/latex": [
       "\\[\n",
       "\\begin{aligned}\n",
       "Q &= \\mathrm{muA} \\cdot \\sqrt { 2 \\cdot g \\cdot H } \\\\&= 13.000\\ \\text{m}^{2} \\cdot \\sqrt { 2 \\cdot 9.810\\ \\text{m} \\cdot \\text{s}^{-2} \\cdot 1.000\\ \\text{m} } \\\\&= 57.583\\ \\text{m}^{3.0} \\cdot \\text{s}^{-1.0}  \\\\\n",
       "\\end{aligned}\n",
       "\\]"
      ],
      "text/plain": [
       "<IPython.core.display.Latex object>"
      ]
     },
     "metadata": {},
     "output_type": "display_data"
    }
   ],
   "source": [
    "%%render\n",
    "Q =  muA * sqrt(2 * g * H)"
   ]
  },
  {
   "cell_type": "code",
   "execution_count": 21,
   "id": "231cce5e",
   "metadata": {},
   "outputs": [
    {
     "data": {
      "text/latex": [
       "\\[\n",
       "\\begin{aligned}\n",
       "H &= 0 \\cdot m  = 0 \\cdot m &= 0.000\\ \\text{m}  \n",
       "\\\\[10pt]\n",
       "Q &= \\mathrm{muA} \\cdot \\sqrt { 2 \\cdot g \\cdot H } \\\\&= 13.000\\ \\text{m}^{2} \\cdot \\sqrt { 2 \\cdot 9.810\\ \\text{m} \\cdot \\text{s}^{-2} \\cdot 0.000\\ \\text{m} } \\\\&= 0.000\\ \\text{m}^{3.0} \\cdot \\text{s}^{-1.0}  \\\\\n",
       "\\end{aligned}\n",
       "\\]"
      ],
      "text/plain": [
       "<IPython.core.display.Latex object>"
      ]
     },
     "metadata": {},
     "output_type": "display_data"
    }
   ],
   "source": [
    "%%render\n",
    "H = 0 * m\n",
    "Q = muA * sqrt(2 * g * H)"
   ]
  },
  {
   "cell_type": "code",
   "execution_count": 22,
   "id": "2c55ecc1",
   "metadata": {},
   "outputs": [
    {
     "data": {
      "text/latex": [
       "\\[\n",
       "\\begin{aligned}\n",
       "\\mathrm{muA} &= 0 \\cdot \\left( m \\right) ^{ 2 }  = 0 \\cdot \\left( m \\right) ^{ 2 } &= 0.000\\ \\text{m}^{2}  \n",
       "\\\\[10pt]\n",
       "H &= 0.75 \\cdot m  = 0.75 \\cdot m &= 750.000\\ \\text{mm}  \n",
       "\\\\[10pt]\n",
       "Q &= \\mathrm{muA} \\cdot \\sqrt { 2 \\cdot g \\cdot H } \\\\&= 0.000\\ \\text{m}^{2} \\cdot \\sqrt { 2 \\cdot 9.810\\ \\text{m} \\cdot \\text{s}^{-2} \\cdot 750.000\\ \\text{mm} } \\\\&= 0.000\\ \\text{m}^{3.0} \\cdot \\text{s}^{-1.0}  \\\\\n",
       "\\end{aligned}\n",
       "\\]"
      ],
      "text/plain": [
       "<IPython.core.display.Latex object>"
      ]
     },
     "metadata": {},
     "output_type": "display_data"
    }
   ],
   "source": [
    "%%render\n",
    "muA = 0 * m**2\n",
    "H = 0.75 * m\n",
    "Q = muA * sqrt(2 * g * H)"
   ]
  },
  {
   "cell_type": "code",
   "execution_count": 23,
   "id": "778abcbf",
   "metadata": {},
   "outputs": [
    {
     "data": {
      "text/latex": [
       "\\[\n",
       "\\begin{aligned}\n",
       "\\mathrm{muA} &= 25 \\cdot \\left( m \\right) ^{ 2 }  = 25 \\cdot \\left( m \\right) ^{ 2 } &= 25.000\\ \\text{m}^{2}  \n",
       "\\\\[10pt]\n",
       "H &= 0 \\cdot m  = 0 \\cdot m &= 0.000\\ \\text{m}  \n",
       "\\\\[10pt]\n",
       "Q &= \\mathrm{muA} \\cdot \\sqrt { 2 \\cdot g \\cdot H } \\\\&= 25.000\\ \\text{m}^{2} \\cdot \\sqrt { 2 \\cdot 9.810\\ \\text{m} \\cdot \\text{s}^{-2} \\cdot 0.000\\ \\text{m} } \\\\&= 0.000\\ \\text{m}^{3.0} \\cdot \\text{s}^{-1.0}  \\\\\n",
       "\\end{aligned}\n",
       "\\]"
      ],
      "text/plain": [
       "<IPython.core.display.Latex object>"
      ]
     },
     "metadata": {},
     "output_type": "display_data"
    }
   ],
   "source": [
    "%%render\n",
    "muA = 25 * m**2\n",
    "H = 0 * m\n",
    "Q = muA * sqrt(2 * g * H)"
   ]
  },
  {
   "cell_type": "code",
   "execution_count": 24,
   "id": "d755c0c9",
   "metadata": {},
   "outputs": [
    {
     "data": {
      "text/latex": [
       "\\[\n",
       "\\begin{aligned}\n",
       "g &= 4 \\cdot \\frac{ m }{ \\left( s \\right) ^{ 2 } }  = 4 \\cdot \\frac{ m }{ \\left( s \\right) ^{ 2 } } &= 4.000\\ \\text{m} \\cdot \\text{s}^{-2}  \n",
       "\\\\[10pt]\n",
       "H &= 0.1 \\cdot m  = 0.1 \\cdot m &= 100.000\\ \\text{mm}  \n",
       "\\\\[10pt]\n",
       "Q &= \\mathrm{muA} \\cdot \\sqrt { 2 \\cdot g \\cdot H } \\\\&= 25.000\\ \\text{m}^{2} \\cdot \\sqrt { 2 \\cdot 4.000\\ \\text{m} \\cdot \\text{s}^{-2} \\cdot 100.000\\ \\text{mm} } \\\\&= 22.361\\ \\text{m}^{3.0} \\cdot \\text{s}^{-1.0}  \\\\\n",
       "\\end{aligned}\n",
       "\\]"
      ],
      "text/plain": [
       "<IPython.core.display.Latex object>"
      ]
     },
     "metadata": {},
     "output_type": "display_data"
    }
   ],
   "source": [
    "%%render\n",
    "g = 4 * m/s**2\n",
    "H = 0.1 * m\n",
    "Q = muA * sqrt(2 * g * H)"
   ]
  },
  {
   "cell_type": "markdown",
   "id": "6525c32c",
   "metadata": {},
   "source": [
    "#### Function delta_H"
   ]
  },
  {
   "cell_type": "code",
   "execution_count": 28,
   "id": "ef45bd5c",
   "metadata": {},
   "outputs": [
    {
     "data": {
      "text/latex": [
       "\\[\n",
       "\\begin{aligned}\n",
       "\\mathrm{muA} &= 13 \\cdot \\left( m \\right) ^{ 2 }  = 13 \\cdot \\left( m \\right) ^{ 2 } &= 13.000\\ \\text{m}^{2}  \n",
       "\\\\[10pt]\n",
       "Q &= 50 \\cdot \\frac{ \\left( m \\right) ^{ 3 } }{ s }  = 50 \\cdot \\frac{ \\left( m \\right) ^{ 3 } }{ s } &= 50.000\\ \\text{m}^{3.0} \\cdot \\text{s}^{-1.0}  \n",
       "\\\\[10pt]\n",
       "g &= 9.81 \\cdot \\frac{ m }{ \\left( s \\right) ^{ 2 } }  = 9.81 \\cdot \\frac{ m }{ \\left( s \\right) ^{ 2 } } &= 9.810\\ \\text{m} \\cdot \\text{s}^{-2}  \n",
       "\\\\[10pt]\n",
       "U &= \\frac{ Q }{ \\mathrm{muA} }  = \\frac{ 50.000\\ \\text{m}^{3.0} \\cdot \\text{s}^{-1.0} }{ 13.000\\ \\text{m}^{2} } &= 3.846\\ \\text{m} \\cdot \\text{s}^{-1}  \n",
       "\\\\[10pt]\n",
       "\\mathrm{DeltaH} &= \\frac{ \\left( U \\right) ^{ 2 } }{ 2 \\cdot g }  = \\frac{ \\left( 3.846\\ \\text{m} \\cdot \\text{s}^{-1} \\right) ^{ 2 } }{ 2 \\cdot 9.810\\ \\text{m} \\cdot \\text{s}^{-2} } &= 753.970\\ \\text{mm}  \n",
       "\\end{aligned}\n",
       "\\]"
      ],
      "text/plain": [
       "<IPython.core.display.Latex object>"
      ]
     },
     "metadata": {},
     "output_type": "display_data"
    }
   ],
   "source": [
    "%%render\n",
    "muA = 13 * m**2\n",
    "Q = 50 * m**3/s\n",
    "g = 9.81 * m/s**2\n",
    "U = Q / muA\n",
    "DeltaH = (U ** 2) / (2 * g)"
   ]
  },
  {
   "cell_type": "code",
   "execution_count": 29,
   "id": "146f1bc8",
   "metadata": {},
   "outputs": [
    {
     "data": {
      "text/latex": [
       "\\[\n",
       "\\begin{aligned}\n",
       "\\mathrm{muA} &= 13 \\cdot \\left( m \\right) ^{ 2 }  = 13 \\cdot \\left( m \\right) ^{ 2 } &= 13.000\\ \\text{m}^{2}  \n",
       "\\\\[10pt]\n",
       "Q &= \\left( - 50 \\right) \\cdot \\frac{ \\left( m \\right) ^{ 3 } }{ s }  = \\left( - 50 \\right) \\cdot \\frac{ \\left( m \\right) ^{ 3 } }{ s } &= -50.000\\ \\text{m}^{3.0} \\cdot \\text{s}^{-1.0}  \n",
       "\\\\[10pt]\n",
       "g &= 9.81 \\cdot \\frac{ m }{ \\left( s \\right) ^{ 2 } }  = 9.81 \\cdot \\frac{ m }{ \\left( s \\right) ^{ 2 } } &= 9.810\\ \\text{m} \\cdot \\text{s}^{-2}  \n",
       "\\\\[10pt]\n",
       "U &= \\frac{ Q }{ \\mathrm{muA} }  = \\frac{ -50.000\\ \\text{m}^{3.0} \\cdot \\text{s}^{-1.0} }{ 13.000\\ \\text{m}^{2} } &= -3.846\\ \\text{m} \\cdot \\text{s}^{-1}  \n",
       "\\\\[10pt]\n",
       "\\mathrm{DeltaH} &= \\frac{ \\left( - \\left( U \\right) ^{ 2 } \\right) }{ 2 \\cdot g }  = \\frac{ \\left( - \\left( -3.846\\ \\text{m} \\cdot \\text{s}^{-1} \\right) ^{ 2 } \\right) }{ 2 \\cdot 9.810\\ \\text{m} \\cdot \\text{s}^{-2} } &= -753.970\\ \\text{mm}  \n",
       "\\end{aligned}\n",
       "\\]"
      ],
      "text/plain": [
       "<IPython.core.display.Latex object>"
      ]
     },
     "metadata": {},
     "output_type": "display_data"
    }
   ],
   "source": [
    "%%render\n",
    "muA = 13 * m**2\n",
    "Q = -50 * m**3/s\n",
    "g = 9.81 * m/s**2\n",
    "U = Q / muA\n",
    "DeltaH = -(U ** 2) / (2 * g)"
   ]
  },
  {
   "cell_type": "code",
   "execution_count": 30,
   "id": "8419da22",
   "metadata": {},
   "outputs": [
    {
     "data": {
      "text/latex": [
       "\\[\n",
       "\\begin{aligned}\n",
       "\\mathrm{muA} &= 25 \\cdot \\left( m \\right) ^{ 2 }  = 25 \\cdot \\left( m \\right) ^{ 2 } &= 25.000\\ \\text{m}^{2}  \n",
       "\\\\[10pt]\n",
       "Q &= 0 \\cdot \\frac{ \\left( m \\right) ^{ 3 } }{ s }  = 0 \\cdot \\frac{ \\left( m \\right) ^{ 3 } }{ s } &= 0.000\\ \\text{m}^{3.0} \\cdot \\text{s}^{-1.0}  \n",
       "\\\\[10pt]\n",
       "g &= 9.81 \\cdot \\frac{ m }{ \\left( s \\right) ^{ 2 } }  = 9.81 \\cdot \\frac{ m }{ \\left( s \\right) ^{ 2 } } &= 9.810\\ \\text{m} \\cdot \\text{s}^{-2}  \n",
       "\\\\[10pt]\n",
       "U &= \\frac{ Q }{ \\mathrm{muA} }  = \\frac{ 0.000\\ \\text{m}^{3.0} \\cdot \\text{s}^{-1.0} }{ 25.000\\ \\text{m}^{2} } &= 0.000\\ \\text{m} \\cdot \\text{s}^{-1}  \n",
       "\\\\[10pt]\n",
       "\\mathrm{DeltaH} &= \\frac{ \\left( - \\left( U \\right) ^{ 2 } \\right) }{ 2 \\cdot g }  = \\frac{ \\left( - \\left( 0.000\\ \\text{m} \\cdot \\text{s}^{-1} \\right) ^{ 2 } \\right) }{ 2 \\cdot 9.810\\ \\text{m} \\cdot \\text{s}^{-2} } &= -0.000\\ \\text{m}  \n",
       "\\end{aligned}\n",
       "\\]"
      ],
      "text/plain": [
       "<IPython.core.display.Latex object>"
      ]
     },
     "metadata": {},
     "output_type": "display_data"
    }
   ],
   "source": [
    "%%render\n",
    "muA = 25 * m**2\n",
    "Q = 0 * m**3/s\n",
    "g = 9.81 * m/s**2\n",
    "U = Q / muA\n",
    "DeltaH = (U ** 2) / (2 * g)"
   ]
  },
  {
   "cell_type": "code",
   "execution_count": 31,
   "id": "e970c92e-80bc-4dd3-9af2-e9e39b29c47b",
   "metadata": {},
   "outputs": [
    {
     "data": {
      "text/latex": [
       "\\[\n",
       "\\begin{aligned}\n",
       "\\mathrm{muA} &= 25 \\cdot \\left( m \\right) ^{ 2 }  = 25 \\cdot \\left( m \\right) ^{ 2 } &= 25.000\\ \\text{m}^{2}  \n",
       "\\\\[10pt]\n",
       "Q &= 30 \\cdot \\frac{ \\left( m \\right) ^{ 3 } }{ s }  = 30 \\cdot \\frac{ \\left( m \\right) ^{ 3 } }{ s } &= 30.000\\ \\text{m}^{3.0} \\cdot \\text{s}^{-1.0}  \n",
       "\\\\[10pt]\n",
       "g &= 4 \\cdot \\frac{ m }{ \\left( s \\right) ^{ 2 } }  = 4 \\cdot \\frac{ m }{ \\left( s \\right) ^{ 2 } } &= 4.000\\ \\text{m} \\cdot \\text{s}^{-2}  \n",
       "\\\\[10pt]\n",
       "U &= \\frac{ Q }{ \\mathrm{muA} }  = \\frac{ 30.000\\ \\text{m}^{3.0} \\cdot \\text{s}^{-1.0} }{ 25.000\\ \\text{m}^{2} } &= 1.200\\ \\text{m} \\cdot \\text{s}^{-1}  \n",
       "\\\\[10pt]\n",
       "\\mathrm{DeltaH} &= \\frac{ \\left( - \\left( U \\right) ^{ 2 } \\right) }{ 2 \\cdot g }  = \\frac{ \\left( - \\left( 1.200\\ \\text{m} \\cdot \\text{s}^{-1} \\right) ^{ 2 } \\right) }{ 2 \\cdot 4.000\\ \\text{m} \\cdot \\text{s}^{-2} } &= -180.000\\ \\text{mm}  \n",
       "\\end{aligned}\n",
       "\\]"
      ],
      "text/plain": [
       "<IPython.core.display.Latex object>"
      ]
     },
     "metadata": {},
     "output_type": "display_data"
    }
   ],
   "source": [
    "%%render\n",
    "muA = 25 * m**2\n",
    "Q = 30 * m**3/s\n",
    "g = 4 * m/s**2\n",
    "U = Q / muA\n",
    "DeltaH = (U ** 2) / (2 * g)"
   ]
  },
  {
   "cell_type": "code",
   "execution_count": null,
   "id": "adcec99c-7a3f-4ef2-9033-55a3797a0c36",
   "metadata": {},
   "outputs": [],
   "source": [
    "%%render\n",
    "Q = 49."
   ]
  }
 ],
 "metadata": {
  "kernelspec": {
   "display_name": "Python 3 (ipykernel)",
   "language": "python",
   "name": "python3"
  },
  "language_info": {
   "codemirror_mode": {
    "name": "ipython",
    "version": 3
   },
   "file_extension": ".py",
   "mimetype": "text/x-python",
   "name": "python",
   "nbconvert_exporter": "python",
   "pygments_lexer": "ipython3",
   "version": "3.10.4"
  }
 },
 "nbformat": 4,
 "nbformat_minor": 5
}
