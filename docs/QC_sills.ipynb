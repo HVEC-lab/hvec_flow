{
 "cells": [
  {
   "cell_type": "markdown",
   "id": "407b62b6",
   "metadata": {},
   "source": [
    "## Package HVEC flow\n",
    "### Test cases subpackage sills"
   ]
  },
  {
   "cell_type": "markdown",
   "id": "2e54e02e",
   "metadata": {},
   "source": [
    "Background calculations for automatic testing of the package are reported here."
   ]
  },
  {
   "cell_type": "markdown",
   "id": "fae9be5d",
   "metadata": {},
   "source": [
    "#### Setting the stage"
   ]
  },
  {
   "cell_type": "code",
   "execution_count": 1,
   "id": "75c3faf8",
   "metadata": {},
   "outputs": [],
   "source": [
    "import handcalcs.render\n",
    "import forallpeople as si\n",
    "from numpy import sqrt, sign, abs, sum, array, cbrt"
   ]
  },
  {
   "cell_type": "code",
   "execution_count": 2,
   "id": "fda53dcf-e436-49c4-9ba3-b5d4d16634ea",
   "metadata": {},
   "outputs": [],
   "source": [
    "si.environment('default', top_level = True)"
   ]
  },
  {
   "cell_type": "markdown",
   "id": "bd6747f8",
   "metadata": {},
   "source": [
    "#### Function qcrit"
   ]
  },
  {
   "cell_type": "code",
   "execution_count": 3,
   "id": "90d6a35f",
   "metadata": {},
   "outputs": [
    {
     "data": {
      "text/latex": [
       "\\[\n",
       "\\begin{aligned}\n",
       "g &= 9.81 \\cdot \\frac{ m }{ \\left( s \\right) ^{ 2 } }  = 9.81 \\cdot \\frac{ m }{ \\left( s \\right) ^{ 2 } } &= 9.810\\ \\mathrm{m} \\cdot \\mathrm{s}^{-2}  \n",
       "\\\\[10pt]\n",
       "\\mathrm{Hup} &= 1 \\cdot m  = 1 \\cdot m &= 1.000\\ \\mathrm{m}  \n",
       "\\\\[10pt]\n",
       "\\mathrm{hsill} &= \\left( - 2 \\right) \\cdot m  = \\left( - 2 \\right) \\cdot m &= -2.000\\ \\mathrm{m}  \n",
       "\\\\[10pt]\n",
       "\\mathrm{dcr} &= \\left( \\frac{ 2 }{ 3 } \\right) \\cdot \\operatorname{max} \\left( \\mathrm{Hup} - \\mathrm{hsill} ,\\  0 \\right)  = \\left( \\frac{ 2 }{ 3 } \\right) \\cdot \\operatorname{max} \\left( 1.000\\ \\mathrm{m} - -2.000\\ \\mathrm{m} ,\\  0 \\right) &= 2.000\\ \\mathrm{m}  \n",
       "\\\\[10pt]\n",
       "\\mathrm{Ucr} &= \\sqrt { 2 \\cdot g \\cdot \\left( \\frac{ 1 }{ 3 } \\right) \\cdot \\left( \\mathrm{Hup} - \\mathrm{hsill} \\right) }  = \\sqrt { 2 \\cdot 9.810\\ \\mathrm{m} \\cdot \\mathrm{s}^{-2} \\cdot \\left( \\frac{ 1 }{ 3 } \\right) \\cdot \\left( 1.000\\ \\mathrm{m} - -2.000\\ \\mathrm{m} \\right) } &= 4.429\\ \\mathrm{m} \\cdot \\mathrm{s}^{-1.0}  \n",
       "\\\\[10pt]\n",
       "\\mathrm{qcr} &= \\mathrm{Ucr} \\cdot \\mathrm{dcr}  = 4.429\\ \\mathrm{m} \\cdot \\mathrm{s}^{-1.0} \\cdot 2.000\\ \\mathrm{m} &= 8.859\\ \\mathrm{m}^{2.0} \\cdot \\mathrm{s}^{-1.0}  \n",
       "\\end{aligned}\n",
       "\\]"
      ],
      "text/plain": [
       "<IPython.core.display.Latex object>"
      ]
     },
     "metadata": {},
     "output_type": "display_data"
    }
   ],
   "source": [
    "%%render\n",
    "g = 9.81 * m/s**2\n",
    "Hup = 1 * m\n",
    "hsill = -2 * m\n",
    "dcr = (2/3) * max(Hup - hsill, 0)\n",
    "Ucr = sqrt(2 * g * (1/3) * (Hup - hsill))\n",
    "qcr = Ucr * dcr"
   ]
  },
  {
   "cell_type": "code",
   "execution_count": 4,
   "id": "a3bcd550",
   "metadata": {},
   "outputs": [
    {
     "data": {
      "text/latex": [
       "\\[\n",
       "\\begin{aligned}\n",
       "g &= 9.81 \\cdot \\frac{ m }{ \\left( s \\right) ^{ 2 } }  = 9.81 \\cdot \\frac{ m }{ \\left( s \\right) ^{ 2 } } &= 9.810\\ \\mathrm{m} \\cdot \\mathrm{s}^{-2}  \n",
       "\\\\[10pt]\n",
       "\\mathrm{Hup} &= 1 \\cdot m  = 1 \\cdot m &= 1.000\\ \\mathrm{m}  \n",
       "\\\\[10pt]\n",
       "\\mathrm{hsill} &= 1 \\cdot m  = 1 \\cdot m &= 1.000\\ \\mathrm{m}  \n",
       "\\\\[10pt]\n",
       "\\mathrm{dcr} &= \\left( \\frac{ 2 }{ 3 } \\right) \\cdot \\operatorname{max} \\left( \\mathrm{Hup} - \\mathrm{hsill} ,\\  0 \\right)  = \\left( \\frac{ 2 }{ 3 } \\right) \\cdot \\operatorname{max} \\left( 1.000\\ \\mathrm{m} - 1.000\\ \\mathrm{m} ,\\  0 \\right) &= 0.000\\ \\mathrm{m}  \n",
       "\\\\[10pt]\n",
       "\\mathrm{Ucr} &= \\sqrt { 2 \\cdot g \\cdot \\left( \\frac{ 1 }{ 3 } \\right) \\cdot \\mathrm{Hup} }  = \\sqrt { 2 \\cdot 9.810\\ \\mathrm{m} \\cdot \\mathrm{s}^{-2} \\cdot \\left( \\frac{ 1 }{ 3 } \\right) \\cdot 1.000\\ \\mathrm{m} } &= 2.557\\ \\mathrm{m} \\cdot \\mathrm{s}^{-1.0}  \n",
       "\\\\[10pt]\n",
       "\\mathrm{qcr} &= \\mathrm{Ucr} \\cdot \\mathrm{dcr}  = 2.557\\ \\mathrm{m} \\cdot \\mathrm{s}^{-1.0} \\cdot 0.000\\ \\mathrm{m} &= 0.000\\ \\mathrm{m}^{2.0} \\cdot \\mathrm{s}^{-1.0}  \n",
       "\\end{aligned}\n",
       "\\]"
      ],
      "text/plain": [
       "<IPython.core.display.Latex object>"
      ]
     },
     "metadata": {},
     "output_type": "display_data"
    }
   ],
   "source": [
    "%%render\n",
    "g = 9.81 * m/s**2\n",
    "Hup = 1 * m\n",
    "hsill = 1 * m\n",
    "dcr = (2/3) * max(Hup - hsill, 0)\n",
    "Ucr = sqrt(2 * g * (1/3) * Hup)\n",
    "qcr = Ucr * dcr"
   ]
  },
  {
   "cell_type": "code",
   "execution_count": 5,
   "id": "567fc2da",
   "metadata": {},
   "outputs": [
    {
     "data": {
      "text/latex": [
       "\\[\n",
       "\\begin{aligned}\n",
       "g &= 9.81 \\cdot \\frac{ m }{ \\left( s \\right) ^{ 2 } }  = 9.81 \\cdot \\frac{ m }{ \\left( s \\right) ^{ 2 } } &= 9.810\\ \\mathrm{m} \\cdot \\mathrm{s}^{-2}  \n",
       "\\\\[10pt]\n",
       "\\mathrm{Hup} &= 1 \\cdot m  = 1 \\cdot m &= 1.000\\ \\mathrm{m}  \n",
       "\\\\[10pt]\n",
       "\\mathrm{hsill} &= 2 \\cdot m  = 2 \\cdot m &= 2.000\\ \\mathrm{m}  \n",
       "\\\\[10pt]\n",
       "\\mathrm{dcr} &= \\left( \\frac{ 2 }{ 3 } \\right) \\cdot \\operatorname{max} \\left( \\mathrm{Hup} - \\mathrm{hsill} ,\\  0 \\right)  = \\left( \\frac{ 2 }{ 3 } \\right) \\cdot \\operatorname{max} \\left( 1.000\\ \\mathrm{m} - 2.000\\ \\mathrm{m} ,\\  0 \\right) &= 0.000  \n",
       "\\\\[10pt]\n",
       "\\mathrm{Ucr} &= \\sqrt { 2 \\cdot g \\cdot \\left( \\frac{ 1 }{ 3 } \\right) \\cdot \\mathrm{Hup} }  = \\sqrt { 2 \\cdot 9.810\\ \\mathrm{m} \\cdot \\mathrm{s}^{-2} \\cdot \\left( \\frac{ 1 }{ 3 } \\right) \\cdot 1.000\\ \\mathrm{m} } &= 2.557\\ \\mathrm{m} \\cdot \\mathrm{s}^{-1.0}  \n",
       "\\\\[10pt]\n",
       "\\mathrm{qcr} &= \\mathrm{Ucr} \\cdot \\mathrm{dcr}  = 2.557\\ \\mathrm{m} \\cdot \\mathrm{s}^{-1.0} \\cdot 0.000 &= 0.000\\ \\mathrm{m} \\cdot \\mathrm{s}^{-1.0}  \n",
       "\\end{aligned}\n",
       "\\]"
      ],
      "text/plain": [
       "<IPython.core.display.Latex object>"
      ]
     },
     "metadata": {},
     "output_type": "display_data"
    }
   ],
   "source": [
    "%%render\n",
    "g = 9.81 * m/s**2\n",
    "Hup = 1 * m\n",
    "hsill = 2 * m\n",
    "dcr = (2/3) * max(Hup - hsill, 0)\n",
    "Ucr = sqrt(2 * g * (1/3) * Hup)\n",
    "qcr = Ucr * dcr"
   ]
  },
  {
   "cell_type": "markdown",
   "id": "afb8887a",
   "metadata": {},
   "source": [
    "Function dcrit"
   ]
  },
  {
   "cell_type": "markdown",
   "id": "1252d869",
   "metadata": {},
   "source": [
    "Critical depth is defined as the depth at which the Froude number is one"
   ]
  },
  {
   "cell_type": "markdown",
   "id": "1f0fafd1",
   "metadata": {},
   "source": [
    "![title](flowpy_validation_4.png)"
   ]
  },
  {
   "cell_type": "code",
   "execution_count": 6,
   "id": "90ab862a",
   "metadata": {},
   "outputs": [
    {
     "data": {
      "text/latex": [
       "\\[\n",
       "\\begin{aligned}\n",
       "q &= 1.5 \\cdot \\frac{ \\left( m \\right) ^{ 2 } }{ s }  = 1.5 \\cdot \\frac{ \\left( m \\right) ^{ 2 } }{ s } &= 1.500\\ \\mathrm{m}^{2.0} \\cdot \\mathrm{s}^{-1.0}  \n",
       "\\\\[10pt]\n",
       "g &= 9.81 \\cdot \\frac{ m }{ \\left( s \\right) ^{ 2 } }  = 9.81 \\cdot \\frac{ m }{ \\left( s \\right) ^{ 2 } } &= 9.810\\ \\mathrm{m} \\cdot \\mathrm{s}^{-2}  \n",
       "\\\\[10pt]\n",
       "\\mathrm{dcr} &= \\left( \\frac{ \\left( q \\right) ^{ 2 } }{ g } \\right) ^{ \\left( \\frac{ 1 }{ 3 } \\right) } \\\\&= \\left( \\frac{ \\left( 1.500\\ \\mathrm{m}^{2.0} \\cdot \\mathrm{s}^{-1.0} \\right) ^{ 2 } }{ 9.810\\ \\mathrm{m} \\cdot \\mathrm{s}^{-2} } \\right) ^{ \\left( \\frac{ 1 }{ 3 } \\right) } \\\\&= 612.122\\ \\mathrm{mm}  \\\\[10pt]\n",
       "\\end{aligned}\n",
       "\\]"
      ],
      "text/plain": [
       "<IPython.core.display.Latex object>"
      ]
     },
     "metadata": {},
     "output_type": "display_data"
    }
   ],
   "source": [
    "%%render\n",
    "q = 1.5 * m**2 / s\n",
    "g = 9.81 * m/s**2\n",
    "dcr = (q ** 2 / g) ** (1/3)"
   ]
  },
  {
   "cell_type": "code",
   "execution_count": 7,
   "id": "d608819e",
   "metadata": {},
   "outputs": [
    {
     "data": {
      "text/latex": [
       "\\[\n",
       "\\begin{aligned}\n",
       "\\mathrm{Fr} &= \\sqrt { \\frac{ \\left( q \\right) ^{ 2 } }{ g \\cdot \\left( \\mathrm{dcr} \\right) ^{ 3 } } }  = \\sqrt { \\frac{ \\left( 1.500\\ \\mathrm{m}^{2.0} \\cdot \\mathrm{s}^{-1.0} \\right) ^{ 2 } }{ 9.810\\ \\mathrm{m} \\cdot \\mathrm{s}^{-2} \\cdot \\left( 612.122\\ \\mathrm{mm} \\right) ^{ 3 } } } &= 1.000  \n",
       "\\end{aligned}\n",
       "\\]"
      ],
      "text/plain": [
       "<IPython.core.display.Latex object>"
      ]
     },
     "metadata": {},
     "output_type": "display_data"
    }
   ],
   "source": [
    "%%render\n",
    "# Verify Froude\n",
    "Fr = sqrt(q ** 2 / (g * dcr ** 3))\n"
   ]
  },
  {
   "cell_type": "markdown",
   "id": "4968d056",
   "metadata": {},
   "source": [
    "Function qcrit"
   ]
  },
  {
   "cell_type": "code",
   "execution_count": 8,
   "id": "0f12e366",
   "metadata": {},
   "outputs": [
    {
     "data": {
      "text/latex": [
       "\\[\n",
       "\\begin{aligned}\n",
       "d &= 1.2 \\cdot m  = 1.2 \\cdot m &= 1.200\\ \\mathrm{m}  \n",
       "\\\\[10pt]\n",
       "\\mathrm{qcr} &= \\sqrt { g \\cdot \\left( d \\right) ^{ 3 } } \\\\&= \\sqrt { 9.810\\ \\mathrm{m} \\cdot \\mathrm{s}^{-2} \\cdot \\left( 1.200\\ \\mathrm{m} \\right) ^{ 3 } } \\\\&= 4.117\\ \\mathrm{m}^{2.0} \\cdot \\mathrm{s}^{-1.0}  \\\\[10pt]\n",
       "\\end{aligned}\n",
       "\\]"
      ],
      "text/plain": [
       "<IPython.core.display.Latex object>"
      ]
     },
     "metadata": {},
     "output_type": "display_data"
    }
   ],
   "source": [
    "%%render\n",
    "d = 1.2 * m\n",
    "qcr = sqrt(g * d**3)"
   ]
  },
  {
   "cell_type": "code",
   "execution_count": 9,
   "id": "87d5d6a8",
   "metadata": {},
   "outputs": [
    {
     "data": {
      "text/latex": [
       "\\[\n",
       "\\begin{aligned}\n",
       "\\mathrm{Fr} &= \\sqrt { \\frac{ \\left( \\mathrm{qcr} \\right) ^{ 2 } }{ g \\cdot \\left( d \\right) ^{ 3 } } }  = \\sqrt { \\frac{ \\left( 4.117\\ \\mathrm{m}^{2.0} \\cdot \\mathrm{s}^{-1.0} \\right) ^{ 2 } }{ 9.810\\ \\mathrm{m} \\cdot \\mathrm{s}^{-2} \\cdot \\left( 1.200\\ \\mathrm{m} \\right) ^{ 3 } } } &= 1.000  \n",
       "\\end{aligned}\n",
       "\\]"
      ],
      "text/plain": [
       "<IPython.core.display.Latex object>"
      ]
     },
     "metadata": {},
     "output_type": "display_data"
    }
   ],
   "source": [
    "%%render\n",
    "# Verify Froude\n",
    "Fr = sqrt(qcr ** 2 / (g * d ** 3))"
   ]
  },
  {
   "cell_type": "markdown",
   "id": "d1915a5c",
   "metadata": {},
   "source": [
    "#### Function capacity"
   ]
  },
  {
   "cell_type": "code",
   "execution_count": 10,
   "id": "60a480d9",
   "metadata": {},
   "outputs": [
    {
     "data": {
      "text/latex": [
       "\\[\n",
       "\\begin{aligned}\n",
       "g &= 9.81 \\cdot \\frac{ m }{ \\left( s \\right) ^{ 2 } }  = 9.81 \\cdot \\frac{ m }{ \\left( s \\right) ^{ 2 } } &= 9.810\\ \\mathrm{m} \\cdot \\mathrm{s}^{-2}  \n",
       "\\\\[10pt]\n",
       "h_{up} &= 0.5 \\cdot m  = 0.5 \\cdot m &= 500.000\\ \\mathrm{mm}  \n",
       "\\\\[10pt]\n",
       "h_{lo} &= \\left( - 0.05 \\right) \\cdot m  = \\left( - 0.05 \\right) \\cdot m &= -50.000\\ \\mathrm{mm}  \n",
       "\\\\[10pt]\n",
       "h_{bot} &= \\left( - 3.05 \\right) \\cdot m  = \\left( - 3.05 \\right) \\cdot m &= -3.050\\ \\mathrm{m}  \n",
       "\\\\[10pt]\n",
       "W &= 7 \\cdot m  = 7 \\cdot m &= 7.000\\ \\mathrm{m}  \n",
       "\\\\[10pt]\n",
       "C_{d} &= 1 \\; \n",
       "\\\\[10pt]\n",
       "\\mathrm{limit}_{1} &= h_{up} - h_{bot} \\cdot \\left( \\frac{ 2 }{ 3 } \\right)  = 500.000\\ \\mathrm{mm} - -3.050\\ \\mathrm{m} \\cdot \\left( \\frac{ 2 }{ 3 } \\right) &= 2.533\\ \\mathrm{m}  \n",
       "\\\\[10pt]\n",
       "\\mathrm{limit}_{2} &= h_{lo} - h_{bot}  = -50.000\\ \\mathrm{mm} - -3.050\\ \\mathrm{m} &= 3.000\\ \\mathrm{m}  \n",
       "\\\\[10pt]\n",
       "\\delta_{h} &= h_{up} - h_{lo}  = 500.000\\ \\mathrm{mm} - -50.000\\ \\mathrm{mm} &= 550.000\\ \\mathrm{mm}  \n",
       "\\\\[10pt]\n",
       "A &= \\left( h_{lo} - h_{bot} \\right) \\cdot W  = \\left( -50.000\\ \\mathrm{mm} - -3.050\\ \\mathrm{m} \\right) \\cdot 7.000\\ \\mathrm{m} &= 21.000\\ \\mathrm{m}^{2}  \n",
       "\\\\[10pt]\n",
       "Q &= C_{d} \\cdot A \\cdot \\sqrt { 2 \\cdot g \\cdot \\delta_{h} } \\\\&= 1 \\cdot 21.000\\ \\mathrm{m}^{2} \\cdot \\sqrt { 2 \\cdot 9.810\\ \\mathrm{m} \\cdot \\mathrm{s}^{-2} \\cdot 550.000\\ \\mathrm{mm} } \\\\&= 68.984\\ \\mathrm{m}^{3.0} \\cdot \\mathrm{s}^{-1.0}  \\\\[10pt]\n",
       "\\end{aligned}\n",
       "\\]"
      ],
      "text/plain": [
       "<IPython.core.display.Latex object>"
      ]
     },
     "metadata": {},
     "output_type": "display_data"
    }
   ],
   "source": [
    "%%render\n",
    "g = 9.81 * m/s**2\n",
    "h_up = 0.5 * m\n",
    "h_lo = -0.05 * m\n",
    "h_bot = -3.05 * m\n",
    "W = 7 * m\n",
    "C_d = 1\n",
    "\n",
    "limit_1 = h_up - h_bot * (2/3)\n",
    "limit_2 = h_lo - h_bot\n",
    "\n",
    "delta_h = h_up - h_lo\n",
    "A = (h_lo - h_bot) * W\n",
    "Q = C_d * A * sqrt(2 * g * delta_h )"
   ]
  },
  {
   "cell_type": "code",
   "execution_count": 11,
   "id": "de2a77c3",
   "metadata": {},
   "outputs": [
    {
     "data": {
      "text/latex": [
       "\\[\n",
       "\\begin{aligned}\n",
       "g &= 9.81 \\cdot \\frac{ m }{ \\left( s \\right) ^{ 2 } }  = 9.81 \\cdot \\frac{ m }{ \\left( s \\right) ^{ 2 } } &= 9.810\\ \\mathrm{m} \\cdot \\mathrm{s}^{-2}  \n",
       "\\\\[10pt]\n",
       "h_{up} &= 0.5 \\cdot m  = 0.5 \\cdot m &= 500.000\\ \\mathrm{mm}  \n",
       "\\\\[10pt]\n",
       "h_{lo} &= \\left( - 2.7 \\right) \\cdot m  = \\left( - 2.7 \\right) \\cdot m &= -2.700\\ \\mathrm{m}  \n",
       "\\\\[10pt]\n",
       "h_{bot} &= \\left( - 3.05 \\right) \\cdot m  = \\left( - 3.05 \\right) \\cdot m &= -3.050\\ \\mathrm{m}  \n",
       "\\\\[10pt]\n",
       "W &= 7 \\cdot m  = 7 \\cdot m &= 7.000\\ \\mathrm{m}  \n",
       "\\\\[10pt]\n",
       "C_{d} &= 0.900 \\; \n",
       "\\\\[10pt]\n",
       "\\mathrm{limit}_{1} &= h_{up} - h_{bot} \\cdot \\left( \\frac{ 2 }{ 3 } \\right)  = 500.000\\ \\mathrm{mm} - -3.050\\ \\mathrm{m} \\cdot \\left( \\frac{ 2 }{ 3 } \\right) &= 2.533\\ \\mathrm{m}  \n",
       "\\\\[10pt]\n",
       "\\mathrm{limit}_{2} &= h_{lo} - h_{bot}  = -2.700\\ \\mathrm{m} - -3.050\\ \\mathrm{m} &= 350.000\\ \\mathrm{mm}  \n",
       "\\\\[10pt]\n",
       "\\delta_{h} &= \\left( \\frac{ 1 }{ 3 } \\right) \\cdot \\left( h_{up} - h_{bot} \\right)  = \\left( \\frac{ 1 }{ 3 } \\right) \\cdot \\left( 500.000\\ \\mathrm{mm} - -3.050\\ \\mathrm{m} \\right) &= 1.183\\ \\mathrm{m}  \n",
       "\\\\[10pt]\n",
       "A &= \\left( \\frac{ 2 }{ 3 } \\right) \\cdot \\left( h_{up} - h_{bot} \\right) \\cdot W  = \\left( \\frac{ 2 }{ 3 } \\right) \\cdot \\left( 500.000\\ \\mathrm{mm} - -3.050\\ \\mathrm{m} \\right) \\cdot 7.000\\ \\mathrm{m} &= 16.567\\ \\mathrm{m}^{2}  \n",
       "\\\\[10pt]\n",
       "Q &= C_{d} \\cdot A \\cdot \\sqrt { 2 \\cdot g \\cdot \\delta_{h} } \\\\&= 0.900 \\cdot 16.567\\ \\mathrm{m}^{2} \\cdot \\sqrt { 2 \\cdot 9.810\\ \\mathrm{m} \\cdot \\mathrm{s}^{-2} \\cdot 1.183\\ \\mathrm{m} } \\\\&= 71.842\\ \\mathrm{m}^{3.0} \\cdot \\mathrm{s}^{-1.0}  \\\\[10pt]\n",
       "\\end{aligned}\n",
       "\\]"
      ],
      "text/plain": [
       "<IPython.core.display.Latex object>"
      ]
     },
     "metadata": {},
     "output_type": "display_data"
    }
   ],
   "source": [
    "%%render\n",
    "g = 9.81 * m/s**2\n",
    "h_up = 0.5 * m\n",
    "h_lo = -2.7 * m\n",
    "h_bot = -3.05 * m\n",
    "W = 7 * m\n",
    "C_d = 0.9\n",
    "\n",
    "limit_1 = h_up - h_bot * (2/3)\n",
    "limit_2 = h_lo - h_bot\n",
    "\n",
    "delta_h = (1/3) * (h_up - h_bot)\n",
    "A = (2/3) * (h_up - h_bot) * W\n",
    "Q = C_d * A * sqrt(2 * g * delta_h )"
   ]
  },
  {
   "cell_type": "code",
   "execution_count": null,
   "id": "a0f244e3",
   "metadata": {},
   "outputs": [],
   "source": []
  }
 ],
 "metadata": {
  "kernelspec": {
   "display_name": ".venv",
   "language": "python",
   "name": "python3"
  },
  "language_info": {
   "codemirror_mode": {
    "name": "ipython",
    "version": 3
   },
   "file_extension": ".py",
   "mimetype": "text/x-python",
   "name": "python",
   "nbconvert_exporter": "python",
   "pygments_lexer": "ipython3",
   "version": "3.13.1"
  }
 },
 "nbformat": 4,
 "nbformat_minor": 5
}
