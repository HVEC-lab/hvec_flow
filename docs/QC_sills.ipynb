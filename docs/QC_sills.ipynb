{
 "cells": [
  {
   "cell_type": "markdown",
   "id": "407b62b6",
   "metadata": {},
   "source": [
    "## Package HVEC flow\n",
    "### Test cases subpackage sills"
   ]
  },
  {
   "cell_type": "markdown",
   "id": "2e54e02e",
   "metadata": {},
   "source": [
    "Background calculations for automatic testing of the package are reported here."
   ]
  },
  {
   "cell_type": "markdown",
   "id": "fae9be5d",
   "metadata": {},
   "source": [
    "#### Setting the stage"
   ]
  },
  {
   "cell_type": "code",
   "execution_count": 1,
   "id": "75c3faf8",
   "metadata": {},
   "outputs": [],
   "source": [
    "import handcalcs.render\n",
    "import forallpeople as si\n",
    "from numpy import sqrt, sign, abs, sum, array, cbrt"
   ]
  },
  {
   "cell_type": "code",
   "execution_count": 2,
   "id": "fda53dcf-e436-49c4-9ba3-b5d4d16634ea",
   "metadata": {},
   "outputs": [],
   "source": [
    "si.environment('default', top_level = True)"
   ]
  },
  {
   "cell_type": "markdown",
   "id": "bd6747f8",
   "metadata": {},
   "source": [
    "#### Function qcrit"
   ]
  },
  {
   "cell_type": "code",
   "execution_count": 3,
   "id": "90d6a35f",
   "metadata": {},
   "outputs": [
    {
     "data": {
      "text/latex": [
       "\\[\n",
       "\\begin{aligned}\n",
       "g &= 9.81 \\cdot \\frac{ m }{ \\left( s \\right) ^{ 2 } }  = 9.81 \\cdot \\frac{ m }{ \\left( s \\right) ^{ 2 } } &= 9.810\\ \\text{m} \\cdot \\text{s}^{-2}  \n",
       "\\\\[10pt]\n",
       "\\mathrm{Hup} &= 1 \\cdot m  = 1 \\cdot m &= 1.000\\ \\text{m}  \n",
       "\\\\[10pt]\n",
       "\\mathrm{hsill} &= \\left( - 2 \\right) \\cdot m  = \\left( - 2 \\right) \\cdot m &= -2.000\\ \\text{m}  \n",
       "\\\\[10pt]\n",
       "\\mathrm{dcr} &= \\left( \\frac{ 2 }{ 3 } \\right) \\cdot \\operatorname{max} { \\left( \\mathrm{Hup} - \\mathrm{hsill} ,\\  0 \\right) }  = \\left( \\frac{ 2 }{ 3 } \\right) \\cdot \\operatorname{max} { \\left( 1.000\\ \\text{m} - -2.000\\ \\text{m} ,\\  0 \\right) } &= 2.000\\ \\text{m}  \n",
       "\\\\[10pt]\n",
       "\\mathrm{Ucr} &= \\sqrt { 2 \\cdot g \\cdot \\left( \\frac{ 1 }{ 3 } \\right) \\cdot \\left( \\mathrm{Hup} - \\mathrm{hsill} \\right) }  = \\sqrt { 2 \\cdot 9.810\\ \\text{m} \\cdot \\text{s}^{-2} \\cdot \\left( \\frac{ 1 }{ 3 } \\right) \\cdot \\left( 1.000\\ \\text{m} - -2.000\\ \\text{m} \\right) } &= 4.429\\ \\text{m} \\cdot \\text{s}^{-1.0}  \n",
       "\\\\[10pt]\n",
       "\\mathrm{qcr} &= \\mathrm{Ucr} \\cdot \\mathrm{dcr}  = 4.429\\ \\text{m} \\cdot \\text{s}^{-1.0} \\cdot 2.000\\ \\text{m} &= 8.859\\ \\text{m}^{2.0} \\cdot \\text{s}^{-1.0}  \n",
       "\\end{aligned}\n",
       "\\]"
      ],
      "text/plain": [
       "<IPython.core.display.Latex object>"
      ]
     },
     "metadata": {},
     "output_type": "display_data"
    }
   ],
   "source": [
    "%%render\n",
    "g = 9.81 * m/s**2\n",
    "Hup = 1 * m\n",
    "hsill = -2 * m\n",
    "dcr = (2/3) * max(Hup - hsill, 0)\n",
    "Ucr = sqrt(2 * g * (1/3) * (Hup - hsill))\n",
    "qcr = Ucr * dcr"
   ]
  },
  {
   "cell_type": "code",
   "execution_count": 4,
   "id": "a3bcd550",
   "metadata": {},
   "outputs": [
    {
     "data": {
      "text/latex": [
       "\\[\n",
       "\\begin{aligned}\n",
       "g &= 9.81 \\cdot \\frac{ m }{ \\left( s \\right) ^{ 2 } }  = 9.81 \\cdot \\frac{ m }{ \\left( s \\right) ^{ 2 } } &= 9.810\\ \\text{m} \\cdot \\text{s}^{-2}  \n",
       "\\\\[10pt]\n",
       "\\mathrm{Hup} &= 1 \\cdot m  = 1 \\cdot m &= 1.000\\ \\text{m}  \n",
       "\\\\[10pt]\n",
       "\\mathrm{hsill} &= 1 \\cdot m  = 1 \\cdot m &= 1.000\\ \\text{m}  \n",
       "\\\\[10pt]\n",
       "\\mathrm{dcr} &= \\left( \\frac{ 2 }{ 3 } \\right) \\cdot \\operatorname{max} { \\left( \\mathrm{Hup} - \\mathrm{hsill} ,\\  0 \\right) }  = \\left( \\frac{ 2 }{ 3 } \\right) \\cdot \\operatorname{max} { \\left( 1.000\\ \\text{m} - 1.000\\ \\text{m} ,\\  0 \\right) } &= 0.000\\ \\text{m}  \n",
       "\\\\[10pt]\n",
       "\\mathrm{Ucr} &= \\sqrt { 2 \\cdot g \\cdot \\left( \\frac{ 1 }{ 3 } \\right) \\cdot \\mathrm{Hup} }  = \\sqrt { 2 \\cdot 9.810\\ \\text{m} \\cdot \\text{s}^{-2} \\cdot \\left( \\frac{ 1 }{ 3 } \\right) \\cdot 1.000\\ \\text{m} } &= 2.557\\ \\text{m} \\cdot \\text{s}^{-1.0}  \n",
       "\\\\[10pt]\n",
       "\\mathrm{qcr} &= \\mathrm{Ucr} \\cdot \\mathrm{dcr}  = 2.557\\ \\text{m} \\cdot \\text{s}^{-1.0} \\cdot 0.000\\ \\text{m} &= 0.000\\ \\text{m}^{2.0} \\cdot \\text{s}^{-1.0}  \n",
       "\\end{aligned}\n",
       "\\]"
      ],
      "text/plain": [
       "<IPython.core.display.Latex object>"
      ]
     },
     "metadata": {},
     "output_type": "display_data"
    }
   ],
   "source": [
    "%%render\n",
    "g = 9.81 * m/s**2\n",
    "Hup = 1 * m\n",
    "hsill = 1 * m\n",
    "dcr = (2/3) * max(Hup - hsill, 0)\n",
    "Ucr = sqrt(2 * g * (1/3) * Hup)\n",
    "qcr = Ucr * dcr"
   ]
  },
  {
   "cell_type": "code",
   "execution_count": 5,
   "id": "567fc2da",
   "metadata": {},
   "outputs": [
    {
     "data": {
      "text/latex": [
       "\\[\n",
       "\\begin{aligned}\n",
       "g &= 9.81 \\cdot \\frac{ m }{ \\left( s \\right) ^{ 2 } }  = 9.81 \\cdot \\frac{ m }{ \\left( s \\right) ^{ 2 } } &= 9.810\\ \\text{m} \\cdot \\text{s}^{-2}  \n",
       "\\\\[10pt]\n",
       "\\mathrm{Hup} &= 1 \\cdot m  = 1 \\cdot m &= 1.000\\ \\text{m}  \n",
       "\\\\[10pt]\n",
       "\\mathrm{hsill} &= 2 \\cdot m  = 2 \\cdot m &= 2.000\\ \\text{m}  \n",
       "\\\\[10pt]\n",
       "\\mathrm{dcr} &= \\left( \\frac{ 2 }{ 3 } \\right) \\cdot \\operatorname{max} { \\left( \\mathrm{Hup} - \\mathrm{hsill} ,\\  0 \\right) }  = \\left( \\frac{ 2 }{ 3 } \\right) \\cdot \\operatorname{max} { \\left( 1.000\\ \\text{m} - 2.000\\ \\text{m} ,\\  0 \\right) } &= 0.0  \n",
       "\\\\[10pt]\n",
       "\\mathrm{Ucr} &= \\sqrt { 2 \\cdot g \\cdot \\left( \\frac{ 1 }{ 3 } \\right) \\cdot \\mathrm{Hup} }  = \\sqrt { 2 \\cdot 9.810\\ \\text{m} \\cdot \\text{s}^{-2} \\cdot \\left( \\frac{ 1 }{ 3 } \\right) \\cdot 1.000\\ \\text{m} } &= 2.557\\ \\text{m} \\cdot \\text{s}^{-1.0}  \n",
       "\\\\[10pt]\n",
       "\\mathrm{qcr} &= \\mathrm{Ucr} \\cdot \\mathrm{dcr}  = 2.557\\ \\text{m} \\cdot \\text{s}^{-1.0} \\cdot 0.0 &= 0.000\\ \\text{m} \\cdot \\text{s}^{-1.0}  \n",
       "\\end{aligned}\n",
       "\\]"
      ],
      "text/plain": [
       "<IPython.core.display.Latex object>"
      ]
     },
     "metadata": {},
     "output_type": "display_data"
    }
   ],
   "source": [
    "%%render\n",
    "g = 9.81 * m/s**2\n",
    "Hup = 1 * m\n",
    "hsill = 2 * m\n",
    "dcr = (2/3) * max(Hup - hsill, 0)\n",
    "Ucr = sqrt(2 * g * (1/3) * Hup)\n",
    "qcr = Ucr * dcr"
   ]
  },
  {
   "cell_type": "markdown",
   "id": "afb8887a",
   "metadata": {},
   "source": [
    "Function dcrit"
   ]
  },
  {
   "cell_type": "markdown",
   "id": "1252d869",
   "metadata": {},
   "source": [
    "Critical depth is defined as the depth at which the Froude number is one"
   ]
  },
  {
   "cell_type": "markdown",
   "id": "1f0fafd1",
   "metadata": {},
   "source": [
    "![title](flowpy_validation_4.png)"
   ]
  },
  {
   "cell_type": "code",
   "execution_count": 6,
   "id": "90ab862a",
   "metadata": {},
   "outputs": [
    {
     "data": {
      "text/latex": [
       "\\[\n",
       "\\begin{aligned}\n",
       "q &= 1.5 \\cdot \\frac{ \\left( m \\right) ^{ 2 } }{ s }  = 1.5 \\cdot \\frac{ \\left( m \\right) ^{ 2 } }{ s } &= 1.500\\ \\text{m}^{2.0} \\cdot \\text{s}^{-1.0}  \n",
       "\\\\[10pt]\n",
       "g &= 9.81 \\cdot \\frac{ m }{ \\left( s \\right) ^{ 2 } }  = 9.81 \\cdot \\frac{ m }{ \\left( s \\right) ^{ 2 } } &= 9.810\\ \\text{m} \\cdot \\text{s}^{-2}  \n",
       "\\\\[10pt]\n",
       "\\mathrm{dcr} &= \\left( \\frac{ \\left( q \\right) ^{ 2 } }{ g } \\right) ^{ \\left( \\frac{ 1 }{ 3 } \\right) } \\\\&= \\left( \\frac{ \\left( 1.500\\ \\text{m}^{2.0} \\cdot \\text{s}^{-1.0} \\right) ^{ 2 } }{ 9.810\\ \\text{m} \\cdot \\text{s}^{-2} } \\right) ^{ \\left( \\frac{ 1 }{ 3 } \\right) } \\\\&= 612.122\\ \\text{mm}  \\\\\n",
       "\\end{aligned}\n",
       "\\]"
      ],
      "text/plain": [
       "<IPython.core.display.Latex object>"
      ]
     },
     "metadata": {},
     "output_type": "display_data"
    }
   ],
   "source": [
    "%%render\n",
    "q = 1.5 * m**2 / s\n",
    "g = 9.81 * m/s**2\n",
    "dcr = (q ** 2 / g) ** (1/3)"
   ]
  },
  {
   "cell_type": "code",
   "execution_count": 7,
   "id": "d608819e",
   "metadata": {},
   "outputs": [
    {
     "data": {
      "text/latex": [
       "\\[\n",
       "\\begin{aligned}\n",
       "\\mathrm{Fr} &= \\sqrt { \\frac{ \\left( q \\right) ^{ 2 } }{ g \\cdot \\left( \\mathrm{dcr} \\right) ^{ 3 } } }  = \\sqrt { \\frac{ \\left( 1.500\\ \\text{m}^{2.0} \\cdot \\text{s}^{-1.0} \\right) ^{ 2 } }{ 9.810\\ \\text{m} \\cdot \\text{s}^{-2} \\cdot \\left( 612.122\\ \\text{mm} \\right) ^{ 3 } } } &= 1.0  \n",
       "\\end{aligned}\n",
       "\\]"
      ],
      "text/plain": [
       "<IPython.core.display.Latex object>"
      ]
     },
     "metadata": {},
     "output_type": "display_data"
    }
   ],
   "source": [
    "%%render\n",
    "# Verify Froude\n",
    "Fr = sqrt(q ** 2 / (g * dcr ** 3))\n"
   ]
  },
  {
   "cell_type": "markdown",
   "id": "4968d056",
   "metadata": {},
   "source": [
    "Function qcrit"
   ]
  },
  {
   "cell_type": "code",
   "execution_count": 8,
   "id": "0f12e366",
   "metadata": {},
   "outputs": [
    {
     "data": {
      "text/latex": [
       "\\[\n",
       "\\begin{aligned}\n",
       "d &= 1.2 \\cdot m  = 1.2 \\cdot m &= 1.200\\ \\text{m}  \n",
       "\\\\[10pt]\n",
       "\\mathrm{qcr} &= \\sqrt { g \\cdot \\left( d \\right) ^{ 3 } }  = \\sqrt { 9.810\\ \\text{m} \\cdot \\text{s}^{-2} \\cdot \\left( 1.200\\ \\text{m} \\right) ^{ 3 } } &= 4.117\\ \\text{m}^{2.0} \\cdot \\text{s}^{-1.0}  \n",
       "\\end{aligned}\n",
       "\\]"
      ],
      "text/plain": [
       "<IPython.core.display.Latex object>"
      ]
     },
     "metadata": {},
     "output_type": "display_data"
    }
   ],
   "source": [
    "%%render\n",
    "d = 1.2 * m\n",
    "qcr = sqrt(g * d**3)"
   ]
  },
  {
   "cell_type": "code",
   "execution_count": 9,
   "id": "87d5d6a8",
   "metadata": {},
   "outputs": [
    {
     "data": {
      "text/latex": [
       "\\[\n",
       "\\begin{aligned}\n",
       "\\mathrm{Fr} &= \\sqrt { \\frac{ \\left( \\mathrm{qcr} \\right) ^{ 2 } }{ g \\cdot \\left( d \\right) ^{ 3 } } }  = \\sqrt { \\frac{ \\left( 4.117\\ \\text{m}^{2.0} \\cdot \\text{s}^{-1.0} \\right) ^{ 2 } }{ 9.810\\ \\text{m} \\cdot \\text{s}^{-2} \\cdot \\left( 1.200\\ \\text{m} \\right) ^{ 3 } } } &= 1.0  \n",
       "\\end{aligned}\n",
       "\\]"
      ],
      "text/plain": [
       "<IPython.core.display.Latex object>"
      ]
     },
     "metadata": {},
     "output_type": "display_data"
    }
   ],
   "source": [
    "%%render\n",
    "# Verify Froude\n",
    "Fr = sqrt(qcr ** 2 / (g * d ** 3))"
   ]
  }
 ],
 "metadata": {
  "kernelspec": {
   "display_name": "Python 3.10.4 64-bit",
   "language": "python",
   "name": "python3"
  },
  "language_info": {
   "codemirror_mode": {
    "name": "ipython",
    "version": 3
   },
   "file_extension": ".py",
   "mimetype": "text/x-python",
   "name": "python",
   "nbconvert_exporter": "python",
   "pygments_lexer": "ipython3",
   "version": "3.10.4"
  },
  "vscode": {
   "interpreter": {
    "hash": "8f524c5d4fd00a57cf286a859919f18af5e86658323418c29131ee166da378b4"
   }
  }
 },
 "nbformat": 4,
 "nbformat_minor": 5
}
